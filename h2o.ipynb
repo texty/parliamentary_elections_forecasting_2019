{
 "cells": [
  {
   "cell_type": "code",
   "execution_count": null,
   "metadata": {
    "ExecuteTime": {
     "end_time": "2019-07-07T09:21:46.620872Z",
     "start_time": "2019-07-07T09:21:45.880089Z"
    }
   },
   "outputs": [],
   "source": [
    "import pandas as pd\n",
    "import requests\n",
    "import bs4"
   ]
  },
  {
   "cell_type": "code",
   "execution_count": null,
   "metadata": {
    "ExecuteTime": {
     "end_time": "2019-07-07T09:25:45.186959Z",
     "start_time": "2019-07-07T09:25:44.052511Z"
    }
   },
   "outputs": [],
   "source": [
    "current_dep_scrape = 'http://w1.c1.rada.gov.ua/pls/site2/fetch_mps?skl_id=9&district=y'\n",
    "\n"
   ]
  },
  {
   "cell_type": "code",
   "execution_count": null,
   "metadata": {
    "ExecuteTime": {
     "end_time": "2019-07-07T11:29:59.830300Z",
     "start_time": "2019-07-07T11:29:55.136012Z"
    }
   },
   "outputs": [],
   "source": [
    "links = [{'name':'2002', 'year':2012, 'link': 'https://w1.c1.rada.gov.ua/pls/site2/fetch_mps?skl_id=5&district=y'},\n",
    "{'name':'2012','year':2014, 'link':'https://w1.c1.rada.gov.ua/pls/site2/fetch_mps?skl_id=8&district=y'},\n",
    " {'name':'2014','year':2019, 'link':'http://w1.c1.rada.gov.ua/pls/site2/fetch_mps?skl_id=9&district=y'}]\n",
    "\n",
    "\n",
    "my_data = {};\n",
    "for election in links:\n",
    "    soup = bs4.BeautifulSoup(requests.get(election['link']).content)\n",
    "\n",
    "    a = [d.text for d in soup.select('ul li p.title a')]\n",
    "    b = [d.text.split('№')[1] for d in soup.select('ul li dd') if 'округу' in d.text]\n",
    "    c = election['year']\n",
    "\n",
    "    my_data[election['name']] = pd.DataFrame({'full_name': a,'smd': b, 'year':c})\n",
    "    \n"
   ]
  },
  {
   "cell_type": "code",
   "execution_count": null,
   "metadata": {
    "ExecuteTime": {
     "end_time": "2019-07-07T11:32:19.949104Z",
     "start_time": "2019-07-07T11:32:19.941932Z"
    }
   },
   "outputs": [],
   "source": [
    "previous_winners = pd.concat(list(my_data.values()), axis=0)"
   ]
  },
  {
   "cell_type": "code",
   "execution_count": null,
   "metadata": {
    "ExecuteTime": {
     "end_time": "2019-07-07T12:34:40.622448Z",
     "start_time": "2019-07-07T12:34:40.608792Z"
    }
   },
   "outputs": [],
   "source": [
    "previous_winners.to_csv('previous_winners.csv', index=False)"
   ]
  },
  {
   "cell_type": "code",
   "execution_count": null,
   "metadata": {
    "ExecuteTime": {
     "end_time": "2019-07-07T09:36:49.053467Z",
     "start_time": "2019-07-07T09:36:48.681642Z"
    }
   },
   "outputs": [],
   "source": [
    "subv_2018 = pd.read_csv('https://raw.githubusercontent.com/OPORA/rada/master/subventions/subventions2018/MPs2018.csv')\n",
    "subv_2018_short = subv_2018[['smd', 'amount']]"
   ]
  },
  {
   "cell_type": "code",
   "execution_count": null,
   "metadata": {
    "ExecuteTime": {
     "end_time": "2019-07-07T09:07:26.344279Z",
     "start_time": "2019-07-07T09:07:25.974399Z"
    }
   },
   "outputs": [],
   "source": [
    "parl = pd.read_csv('parl_2019.csv')"
   ]
  },
  {
   "cell_type": "code",
   "execution_count": null,
   "metadata": {
    "ExecuteTime": {
     "end_time": "2019-07-07T09:07:27.829496Z",
     "start_time": "2019-07-07T09:07:27.790524Z"
    }
   },
   "outputs": [],
   "source": [
    "parl['Висування'].value_counts().reset_index().to_csv('parties_2019', index=False)"
   ]
  },
  {
   "cell_type": "code",
   "execution_count": null,
   "metadata": {
    "ExecuteTime": {
     "end_time": "2019-07-07T09:07:29.972645Z",
     "start_time": "2019-07-07T09:07:29.308147Z"
    }
   },
   "outputs": [],
   "source": [
    "pres = pd.read_csv('pres_2019.tsv', sep='\\t')\n",
    "pres_tvo = pres.groupby(['tvo', 'oblast'])['БалашовГеннадій',\n",
    "       'БезсмертнийРоман', 'БогомолецьОльга', 'БогословськаІнна', 'БойкоЮрій',\n",
    "       'БондарВіктор', 'ВащенкоОлександр', 'ВілкулОлександр', 'ГаберМикола',\n",
    "       'ГриценкоАнатолій', 'ДанилюкОлександр', 'Дерев’янкоЮрій',\n",
    "       'ЖуравльовВасиль', 'ЗеленськийВолодимир', 'КаплінСергій',\n",
    "       'КармазінЮрій', 'КиваІлля', 'КорнацькийАркадій', 'КошулинськийРуслан',\n",
    "       'КривенкоВіктор', 'КупрійВіталій', 'ЛитвиненкоЮлія', 'ЛяшкоОлег',\n",
    "       'МорозОлександр', 'НаливайченкоВалентин', 'НасіровРоман', 'НовакАндрій',\n",
    "       'НосенкоСергій', 'ПетровВолодимир', 'ПорошенкоПетро', 'РиговановРуслан',\n",
    "       'СкоцикВіталій', 'СмешкоІгор', 'СоловйовОлександр', 'ТарутаСергій',\n",
    "       'ТимошенкоЮлія', 'ТимошенкоЮрій', 'ШевченкоІгор', 'ШевченкоОлександр'].sum()\n",
    "\n",
    "pres_tvo.reset_index(inplace=True)"
   ]
  },
  {
   "cell_type": "code",
   "execution_count": null,
   "metadata": {
    "ExecuteTime": {
     "end_time": "2019-07-07T09:07:31.397922Z",
     "start_time": "2019-07-07T09:07:31.387528Z"
    }
   },
   "outputs": [],
   "source": [
    "party_names_and_cands = parl['Висування'].value_counts().reset_index()\n",
    "party_names_and_cands['candidat_pres'] =  pd.Series([np.nan,'ЗеленськийВолодимир', 'БойкоЮрій', 'ТимошенкоЮлія', np.nan, 'ПорошенкоПетро', np.nan, 'СмешкоІгор', np.nan, 'ЛяшкоОлег'])\n",
    "# party_names_and_cands = party_names_and_cands.fillna('Самовисування')"
   ]
  },
  {
   "cell_type": "code",
   "execution_count": null,
   "metadata": {
    "ExecuteTime": {
     "end_time": "2019-07-07T09:07:33.062908Z",
     "start_time": "2019-07-07T09:07:33.052751Z"
    },
    "code_folding": []
   },
   "outputs": [],
   "source": [
    "pres_tvo_melted = pd.melt(pres_tvo,id_vars=['tvo', 'oblast'],\n",
    "        value_name='n_vbtes')"
   ]
  },
  {
   "cell_type": "code",
   "execution_count": null,
   "metadata": {
    "ExecuteTime": {
     "end_time": "2019-07-07T09:07:34.519498Z",
     "start_time": "2019-07-07T09:07:34.512423Z"
    }
   },
   "outputs": [],
   "source": [
    "party_names_and_cands.columns"
   ]
  },
  {
   "cell_type": "code",
   "execution_count": null,
   "metadata": {
    "ExecuteTime": {
     "end_time": "2019-07-07T09:07:36.162722Z",
     "start_time": "2019-07-07T09:07:35.970428Z"
    }
   },
   "outputs": [],
   "source": [
    "parl_with_pres_name = pd.merge(parl, party_names_and_cands[['index', 'candidat_pres']],\n",
    "         left_on='Висування', right_on=\"index\", how='left')"
   ]
  },
  {
   "cell_type": "code",
   "execution_count": null,
   "metadata": {
    "ExecuteTime": {
     "end_time": "2019-07-07T09:08:11.448440Z",
     "start_time": "2019-07-07T09:08:11.439328Z"
    }
   },
   "outputs": [],
   "source": [
    "# parl_with_pres_name['Округ', 'candidat_pres']\n",
    "# pres_tvo_melted['tvo', 'variable']"
   ]
  },
  {
   "cell_type": "code",
   "execution_count": null,
   "metadata": {
    "ExecuteTime": {
     "end_time": "2019-07-07T09:08:13.072986Z",
     "start_time": "2019-07-07T09:08:13.055136Z"
    }
   },
   "outputs": [],
   "source": [
    "data_for_prediction = pd.merge(parl_with_pres_name, pres_tvo_melted, left_on=['Округ', 'candidat_pres'],\n",
    "         right_on=['tvo', 'variable'], how='left')"
   ]
  },
  {
   "cell_type": "code",
   "execution_count": null,
   "metadata": {
    "ExecuteTime": {
     "end_time": "2019-07-07T09:08:14.652169Z",
     "start_time": "2019-07-07T09:08:14.612908Z"
    }
   },
   "outputs": [],
   "source": [
    "data_for_prediction = data_for_prediction[['ПІБ', 'Округ', 'Висування', 'Область', 'n_vbtes']]\n",
    "data_for_prediction.columns = ['candidat_name', 'tvo', 'party_name', 'oblast_name', 'pres_cand_result']\n",
    "data_for_prediction"
   ]
  },
  {
   "cell_type": "code",
   "execution_count": null,
   "metadata": {
    "ExecuteTime": {
     "end_time": "2019-07-07T09:37:25.417277Z",
     "start_time": "2019-07-07T09:37:25.394666Z"
    }
   },
   "outputs": [],
   "source": [
    "subv_2018['smd'] = subv_2018.smd.astype('str')\n",
    "combined_subv = pd.merge(subv_2018[['smd', 'mp_name', 'amount']], winners_2019, on='smd', how='left')"
   ]
  },
  {
   "cell_type": "code",
   "execution_count": null,
   "metadata": {
    "ExecuteTime": {
     "end_time": "2019-07-07T09:40:43.526215Z",
     "start_time": "2019-07-07T09:40:43.503686Z"
    }
   },
   "outputs": [],
   "source": [
    "data_for_prediction['tvo'] = data_for_prediction.tvo.astype('str') \n",
    "merged_subv = pd.merge(data_for_prediction, combined_subv,\n",
    "         left_on=['tvo'], right_on=['smd'], how='left')"
   ]
  },
  {
   "cell_type": "code",
   "execution_count": null,
   "metadata": {
    "ExecuteTime": {
     "end_time": "2019-07-07T11:36:48.462746Z",
     "start_time": "2019-07-07T11:36:48.380611Z"
    }
   },
   "outputs": [],
   "source": [
    "merged_subv[merged_subv.compare > 0.85].sort_values('compare')"
   ]
  },
  {
   "cell_type": "code",
   "execution_count": null,
   "metadata": {
    "ExecuteTime": {
     "end_time": "2019-07-07T09:55:30.103660Z",
     "start_time": "2019-07-07T09:55:29.572436Z"
    }
   },
   "outputs": [],
   "source": [
    "# помилка тому, що є НА в назвах, а вони є тому, що субвенції були не у всіх округах. Краще на це забити і взяти \n",
    "# переможців з попереднього файла\n",
    "\n",
    "from difflib import SequenceMatcher\n",
    "\n",
    "merged_subv.full_name = merged_subv.full_name.fillna('1')\n",
    "\n",
    "def compare(x):\n",
    "    return SequenceMatcher(None, x['candidat_name'], x['full_name']).ratio()\n",
    "\n",
    "merged_subv['compare'] = merged_subv.apply(lambda x: compare(x), axis=1)\n",
    "merged_subv['winner'] = merged_subv.compare.apply(lambda x: x > 0.9)\n"
   ]
  },
  {
   "cell_type": "code",
   "execution_count": null,
   "metadata": {
    "ExecuteTime": {
     "end_time": "2019-07-07T12:25:07.462113Z",
     "start_time": "2019-07-07T12:25:07.455127Z"
    }
   },
   "outputs": [],
   "source": [
    "np.nan"
   ]
  },
  {
   "cell_type": "code",
   "execution_count": null,
   "metadata": {
    "ExecuteTime": {
     "end_time": "2019-07-07T12:28:19.464948Z",
     "start_time": "2019-07-07T12:28:19.359456Z"
    }
   },
   "outputs": [],
   "source": [
    "def change(x):\n",
    "    if (x['winner'] == True):\n",
    "        return x['amount']\n",
    "    else:\n",
    "        return np.nan\n",
    "        \n",
    "\n",
    "merged_subv['amount'] = merged_subv.apply(lambda x: change(x), axis=1)"
   ]
  },
  {
   "cell_type": "code",
   "execution_count": null,
   "metadata": {
    "ExecuteTime": {
     "end_time": "2019-07-07T12:32:09.497341Z",
     "start_time": "2019-07-07T12:32:09.452043Z"
    }
   },
   "outputs": [],
   "source": [
    "merged_subv_short =  merged_subv.drop(['mp_name', 'full_name', 'compare'], axis=1)\n",
    "merged_subv_short.columns = ['candidat_name', 'tvo', 'party_name', 'oblast_name', 'pres_cand_result',\n",
    "       'smd', 'amount', 'previous_election_winner']\n",
    "merged_subv_short.to_csv('for_2019_pred_unfinished.csv', index=False)"
   ]
  },
  {
   "cell_type": "code",
   "execution_count": null,
   "metadata": {
    "ExecuteTime": {
     "end_time": "2019-07-07T09:55:20.993556Z",
     "start_time": "2019-07-07T09:55:20.979824Z"
    }
   },
   "outputs": [],
   "source": [
    "merged_subv['winner'] = merged_subv.compare.apply(lambda x: x > 0.9)"
   ]
  },
  {
   "cell_type": "code",
   "execution_count": null,
   "metadata": {
    "ExecuteTime": {
     "end_time": "2019-07-07T12:37:01.706681Z",
     "start_time": "2019-07-07T12:37:01.624821Z"
    }
   },
   "outputs": [],
   "source": [
    "merged_subv_short"
   ]
  },
  {
   "cell_type": "code",
   "execution_count": null,
   "metadata": {
    "ExecuteTime": {
     "end_time": "2019-07-07T12:33:30.850722Z",
     "start_time": "2019-07-07T12:33:30.824456Z"
    }
   },
   "outputs": [],
   "source": [
    "merged_subv_short[merged_subv_short.party_name == 0]"
   ]
  },
  {
   "cell_type": "code",
   "execution_count": null,
   "metadata": {
    "ExecuteTime": {
     "end_time": "2019-07-07T11:03:50.888141Z",
     "start_time": "2019-07-07T11:03:50.875857Z"
    }
   },
   "outputs": [],
   "source": [
    "load_csv.iloc[2,:]"
   ]
  },
  {
   "cell_type": "markdown",
   "metadata": {},
   "source": [
    "# Model"
   ]
  },
  {
   "cell_type": "code",
   "execution_count": null,
   "metadata": {
    "ExecuteTime": {
     "end_time": "2019-07-07T10:22:36.678135Z",
     "start_time": "2019-07-07T10:22:32.613544Z"
    }
   },
   "outputs": [],
   "source": [
    "import h2o\n",
    "\n",
    "# Number of threads, nthreads = -1, means use all cores on your machine\n",
    "# max_mem_size is the maximum memory (in GB) to allocate to H2O\n",
    "h2o.init(nthreads = -1, max_mem_size = 6)"
   ]
  },
  {
   "cell_type": "code",
   "execution_count": null,
   "metadata": {
    "ExecuteTime": {
     "end_time": "2019-07-07T10:47:56.450744Z",
     "start_time": "2019-07-07T10:47:56.320570Z"
    }
   },
   "outputs": [],
   "source": [
    "# load_csv = \"combined_results.csv\"  # modify this for your machine\n",
    "\n",
    "# load_csv = pd.read_csv(load_csv)\n"
   ]
  },
  {
   "cell_type": "code",
   "execution_count": null,
   "metadata": {
    "ExecuteTime": {
     "end_time": "2019-07-07T10:49:42.108233Z",
     "start_time": "2019-07-07T10:49:42.085136Z"
    }
   },
   "outputs": [],
   "source": [
    "# t = load_csv.loc[load_csv.winner == True]\n",
    "# f = load_csv.loc[load_csv.winner == False]\n",
    "\n",
    "# f_short = f.sample(len(t))"
   ]
  },
  {
   "cell_type": "code",
   "execution_count": null,
   "metadata": {
    "ExecuteTime": {
     "end_time": "2019-07-07T15:36:03.109694Z",
     "start_time": "2019-07-07T15:36:02.658958Z"
    }
   },
   "outputs": [],
   "source": [
    "loan_csv = \"combined_results.csv\"  # modify this for your machine\n",
    "# Alternatively, you can import the data directly from a URL\n",
    "# loan_csv = \"https://raw.githubusercontent.com/h2oai/app-consumer-loan/master/data/loan.csv\"\n",
    "# data = h2o.H2OFrame(data)  # 163,987 rows x 15 columns\n",
    "\n",
    "# df = pd.read_csv(loan_csv)\n",
    "# df = df.drop_duplicates()\n",
    "\n",
    "# previous_winners['was_in_power'] = True\n",
    "# previous_winners.columns = ['deputat', 'tvo', 'year', 'was_in_power']\n",
    "# previous_winners.tvo = previous_winners.tvo.astype('int64')\n",
    "\n",
    "# df = pd.merge(df, previous_winners, on=['deputat', 'tvo', 'year'], how='left')\n",
    "# df.was_in_power = df.was_in_power.fillna(False)\n",
    "\n",
    "\n",
    "# data = h2o.H2OFrame(df)\n",
    "data = h2o.import_file(loan_csv)"
   ]
  },
  {
   "cell_type": "code",
   "execution_count": null,
   "metadata": {
    "ExecuteTime": {
     "end_time": "2019-07-07T15:27:07.178651Z",
     "start_time": "2019-07-07T15:27:07.167713Z"
    }
   },
   "outputs": [],
   "source": [
    "# train_pd = df.loc[df.year == 2012]\n",
    "# test_pd = df.loc[df.year == 2014]\n"
   ]
  },
  {
   "cell_type": "code",
   "execution_count": null,
   "metadata": {
    "ExecuteTime": {
     "end_time": "2019-07-07T15:27:41.691933Z",
     "start_time": "2019-07-07T15:27:40.815106Z"
    }
   },
   "outputs": [],
   "source": [
    "# from sklearn.utils import shuffle\n",
    "\n",
    "# t = train_pd.loc[load_csv.winner == True]\n",
    "# f = train_pd.loc[load_csv.winner == False]\n",
    "\n",
    "# f_short = f.sample(len(t))\n",
    "\n",
    "# d = pd.concat([t,f_short], axis=0)\n",
    "# train_pd_short = shuffle(d)\n",
    "\n",
    "\n",
    "# train = h2o.H2OFrame(train_pd_short)\n",
    "# test = h2o.H2OFrame(test_pd)"
   ]
  },
  {
   "cell_type": "code",
   "execution_count": null,
   "metadata": {
    "ExecuteTime": {
     "end_time": "2019-07-07T15:40:11.070842Z",
     "start_time": "2019-07-07T15:40:11.066575Z"
    }
   },
   "outputs": [],
   "source": [
    "data = data.drop(['perc_for', 'votes_for'])"
   ]
  },
  {
   "cell_type": "code",
   "execution_count": null,
   "metadata": {
    "ExecuteTime": {
     "end_time": "2019-07-07T15:40:17.248873Z",
     "start_time": "2019-07-07T15:40:17.033304Z"
    }
   },
   "outputs": [],
   "source": [
    "# Partition data into 70%, 15%, 15% chunks\n",
    "# Setting a seed will guarantee reproducibility\n",
    "\n",
    "# Split data into train and testing\n",
    "train, test = data.split_frame(ratios=[0.8])\n",
    "\n",
    "# train = data_prepared[data_prepared[:,'year'] == 2012]\n",
    "# test = data_prepared[data_prepared[:,'year'] == 2014]"
   ]
  },
  {
   "cell_type": "markdown",
   "metadata": {},
   "source": [
    "Identify response and predictor variables¶ "
   ]
  },
  {
   "cell_type": "code",
   "execution_count": null,
   "metadata": {
    "ExecuteTime": {
     "end_time": "2019-07-07T15:40:26.753475Z",
     "start_time": "2019-07-07T15:40:26.746343Z"
    }
   },
   "outputs": [],
   "source": [
    "y = 'winner'\n",
    "x = list(data.columns)\n",
    "\n",
    "x.remove(y)  #remove the response\n",
    "x.remove('pres_perc_for')  #remove the interest rate column because it's correlated with the outcome\n",
    "\n"
   ]
  },
  {
   "cell_type": "code",
   "execution_count": null,
   "metadata": {
    "ExecuteTime": {
     "end_time": "2019-07-07T15:40:34.610102Z",
     "start_time": "2019-07-07T15:40:34.606184Z"
    }
   },
   "outputs": [],
   "source": [
    "# Import H2O RF:\n",
    "from h2o.estimators.random_forest import H2ORandomForestEstimator"
   ]
  },
  {
   "cell_type": "code",
   "execution_count": null,
   "metadata": {
    "ExecuteTime": {
     "end_time": "2019-07-07T15:40:41.455272Z",
     "start_time": "2019-07-07T15:40:41.449462Z"
    }
   },
   "outputs": [],
   "source": [
    "rf_fit1 = H2ORandomForestEstimator(model_id='rf_fit1', max_depth=10, seed=1)"
   ]
  },
  {
   "cell_type": "code",
   "execution_count": null,
   "metadata": {
    "ExecuteTime": {
     "end_time": "2019-07-07T15:40:50.392690Z",
     "start_time": "2019-07-07T15:40:48.051282Z"
    }
   },
   "outputs": [],
   "source": [
    "rf_fit1.train(x=x, y=y, training_frame=train)"
   ]
  },
  {
   "cell_type": "markdown",
   "metadata": {},
   "source": [
    "Train an RF with more trees¶"
   ]
  },
  {
   "cell_type": "code",
   "execution_count": null,
   "metadata": {
    "ExecuteTime": {
     "end_time": "2019-07-07T15:40:59.725685Z",
     "start_time": "2019-07-07T15:40:55.809922Z"
    }
   },
   "outputs": [],
   "source": [
    "rf_fit2 = H2ORandomForestEstimator(model_id='rf_fit2', ntrees=100, seed=1)\n",
    "rf_fit2.train(x=x, y=y, training_frame=train)"
   ]
  },
  {
   "cell_type": "code",
   "execution_count": null,
   "metadata": {
    "ExecuteTime": {
     "end_time": "2019-07-07T15:41:04.926077Z",
     "start_time": "2019-07-07T15:41:04.923524Z"
    }
   },
   "outputs": [],
   "source": [
    "# rf_fit3 = H2ORandomForestEstimator(model_id='rf_fit3', seed=1, nfolds=5)\n",
    "# rf_fit3.train(x=x, y=y, training_frame=data)"
   ]
  },
  {
   "cell_type": "code",
   "execution_count": null,
   "metadata": {
    "ExecuteTime": {
     "end_time": "2019-07-07T15:50:04.648799Z",
     "start_time": "2019-07-07T15:50:00.756522Z"
    }
   },
   "outputs": [],
   "source": [
    "from h2o.estimators import H2OXGBoostEstimator\n",
    "model = H2OXGBoostEstimator(\n",
    "#     silent=False, \n",
    "#                       scale_pos_weight=1,\n",
    "#                       learning_rate=0.01,  \n",
    "                      colsample_bytree = 0.4,\n",
    "                      subsample = 0.8,\n",
    "#                       objective='binary:logistic', \n",
    "#                       n_estimators=1000, \n",
    "                      reg_alpha = 0.3,\n",
    "                      max_depth=4, \n",
    "gamma=10.0)\n",
    "model.train(x=x, y=y, training_frame=train)"
   ]
  },
  {
   "cell_type": "code",
   "execution_count": null,
   "metadata": {
    "ExecuteTime": {
     "end_time": "2019-07-07T15:50:09.932266Z",
     "start_time": "2019-07-07T15:50:09.890837Z"
    }
   },
   "outputs": [],
   "source": [
    "xgboost_perf1 = model.model_performance(test)\n"
   ]
  },
  {
   "cell_type": "code",
   "execution_count": null,
   "metadata": {
    "ExecuteTime": {
     "end_time": "2019-07-07T15:50:15.084804Z",
     "start_time": "2019-07-07T15:50:14.930076Z"
    }
   },
   "outputs": [],
   "source": [
    "rf_perf1 = rf_fit1.model_performance(test)\n",
    "rf_perf2 = rf_fit2.model_performance(test)\n",
    "# rf_perf3 = rf_fit3.model_performance(test)\n",
    "xgboost_perf1 = model.model_performance(test)\n",
    "\n",
    "\n",
    "# Retreive test set AUC\n",
    "print (rf_perf1.auc())\n",
    "print (rf_perf2.auc())\n",
    "xgboost_perf1.auc()\n",
    "\n",
    "# print (rf_perf3.auc())\n",
    "\n",
    "\n"
   ]
  },
  {
   "cell_type": "code",
   "execution_count": null,
   "metadata": {
    "ExecuteTime": {
     "end_time": "2019-07-07T15:50:24.367958Z",
     "start_time": "2019-07-07T15:50:24.300036Z"
    }
   },
   "outputs": [],
   "source": [
    "xgboost_perf1"
   ]
  },
  {
   "cell_type": "code",
   "execution_count": null,
   "metadata": {
    "ExecuteTime": {
     "end_time": "2019-07-07T15:43:59.226445Z",
     "start_time": "2019-07-07T15:43:59.207517Z"
    }
   },
   "outputs": [],
   "source": [
    "rf_perf1.confusion_matrix()\n"
   ]
  },
  {
   "cell_type": "code",
   "execution_count": null,
   "metadata": {
    "ExecuteTime": {
     "end_time": "2019-07-07T15:51:01.677882Z",
     "start_time": "2019-07-07T15:51:01.645434Z"
    },
    "scrolled": true
   },
   "outputs": [],
   "source": [
    "pd.DataFrame(model.varimp()) "
   ]
  },
  {
   "cell_type": "code",
   "execution_count": null,
   "metadata": {
    "ExecuteTime": {
     "end_time": "2019-07-07T15:51:15.895134Z",
     "start_time": "2019-07-07T15:51:15.541821Z"
    }
   },
   "outputs": [],
   "source": [
    "final_pred = rf_fit2.predict(test.drop('winner'))\n"
   ]
  },
  {
   "cell_type": "code",
   "execution_count": null,
   "metadata": {
    "ExecuteTime": {
     "end_time": "2019-07-07T15:55:42.026545Z",
     "start_time": "2019-07-07T15:55:20.684Z"
    }
   },
   "outputs": [],
   "source": [
    "test[170,]"
   ]
  },
  {
   "cell_type": "code",
   "execution_count": null,
   "metadata": {
    "ExecuteTime": {
     "end_time": "2019-07-07T15:59:40.234404Z",
     "start_time": "2019-07-07T15:59:40.228821Z"
    }
   },
   "outputs": [],
   "source": [
    "import sys\n",
    "sys.getdefaultencoding()\n"
   ]
  },
  {
   "cell_type": "code",
   "execution_count": null,
   "metadata": {
    "ExecuteTime": {
     "end_time": "2019-07-07T15:56:23.274692Z",
     "start_time": "2019-07-07T15:56:10.998715Z"
    }
   },
   "outputs": [],
   "source": [
    "test.as_data_frame()"
   ]
  },
  {
   "cell_type": "code",
   "execution_count": null,
   "metadata": {
    "ExecuteTime": {
     "end_time": "2019-07-07T15:51:33.563485Z",
     "start_time": "2019-07-07T15:51:21.391740Z"
    }
   },
   "outputs": [],
   "source": [
    "check_result = test.concat(final_pred,axis=1).as_data_frame(use_pandas=True)\n",
    "\n"
   ]
  },
  {
   "cell_type": "code",
   "execution_count": null,
   "metadata": {
    "ExecuteTime": {
     "end_time": "2019-07-07T15:51:33.574178Z",
     "start_time": "2019-07-07T15:51:16.600Z"
    }
   },
   "outputs": [],
   "source": [
    "def check(x):\n",
    "    if (x['predict'] == x['winner'] == True):\n",
    "        return 'true_positive'\n",
    "    if (x['predict'] == x['winner'] == False):\n",
    "        return 'true_negative'\n",
    "    if (x['predict'] > x['winner']):\n",
    "        return \"false_positive\"\n",
    "    if (x['predict'] < x['winner']):\n",
    "        return 'false_negative'\n",
    "\n",
    "check_result['status'] = check_result.apply(lambda x: check(x), axis=1)"
   ]
  },
  {
   "cell_type": "code",
   "execution_count": null,
   "metadata": {
    "ExecuteTime": {
     "end_time": "2019-07-07T15:51:33.581383Z",
     "start_time": "2019-07-07T15:51:18.934Z"
    }
   },
   "outputs": [],
   "source": [
    "check_result.winner.value_counts()"
   ]
  },
  {
   "cell_type": "code",
   "execution_count": null,
   "metadata": {
    "ExecuteTime": {
     "end_time": "2019-07-07T15:35:04.452262Z",
     "start_time": "2019-07-07T15:35:04.439565Z"
    }
   },
   "outputs": [],
   "source": [
    "check_result.status.value_counts()"
   ]
  },
  {
   "cell_type": "code",
   "execution_count": null,
   "metadata": {
    "ExecuteTime": {
     "end_time": "2019-07-07T15:35:09.242836Z",
     "start_time": "2019-07-07T15:35:09.151857Z"
    }
   },
   "outputs": [],
   "source": [
    "check_result"
   ]
  },
  {
   "cell_type": "code",
   "execution_count": null,
   "metadata": {
    "ExecuteTime": {
     "end_time": "2019-07-07T15:33:14.923484Z",
     "start_time": "2019-07-07T15:33:14.775529Z"
    }
   },
   "outputs": [],
   "source": [
    "highest_prob = check_result.groupby(['tvo', 'year'], sort=False)['True'].max().reset_index(name='highest_prob')\n",
    "\n",
    "check_result = pd.merge(check_result, highest_prob, on=['tvo', 'year'], how='left')"
   ]
  },
  {
   "cell_type": "code",
   "execution_count": null,
   "metadata": {
    "ExecuteTime": {
     "end_time": "2019-07-07T14:37:59.279606Z",
     "start_time": "2019-07-07T14:37:59.272317Z"
    }
   },
   "outputs": [],
   "source": [
    "check_result.predict.value_counts()"
   ]
  },
  {
   "cell_type": "code",
   "execution_count": null,
   "metadata": {
    "ExecuteTime": {
     "end_time": "2019-07-07T14:38:03.850974Z",
     "start_time": "2019-07-07T14:38:03.846080Z"
    }
   },
   "outputs": [],
   "source": [
    "len(check_result)"
   ]
  },
  {
   "cell_type": "code",
   "execution_count": null,
   "metadata": {
    "ExecuteTime": {
     "end_time": "2019-07-07T14:38:09.206533Z",
     "start_time": "2019-07-07T14:38:09.062502Z"
    }
   },
   "outputs": [],
   "source": [
    "check_result['manual_check_winner'] = check_result.apply(lambda x: x['True'] == x['highest_prob'], axis=1)"
   ]
  },
  {
   "cell_type": "code",
   "execution_count": null,
   "metadata": {
    "ExecuteTime": {
     "end_time": "2019-07-07T14:42:39.597316Z",
     "start_time": "2019-07-07T14:42:39.354833Z"
    }
   },
   "outputs": [],
   "source": [
    "check_result[check_result.apply(lambda x: (x['winner'] != x['manual_check_winner']), axis=1)].proposed.value_counts()"
   ]
  },
  {
   "cell_type": "code",
   "execution_count": null,
   "metadata": {
    "ExecuteTime": {
     "end_time": "2019-07-07T15:15:30.315382Z",
     "start_time": "2019-07-07T15:15:30.277919Z"
    }
   },
   "outputs": [],
   "source": [
    "check_result.loc[check_result.tvo == 25].sort_values('True', ascending=False)[['True', 'deputat', 'partia','manual_check_winner', 'winner']]"
   ]
  },
  {
   "cell_type": "code",
   "execution_count": null,
   "metadata": {
    "ExecuteTime": {
     "end_time": "2019-07-07T15:20:14.272815Z",
     "start_time": "2019-07-07T15:20:14.098888Z"
    }
   },
   "outputs": [],
   "source": [
    "check_result[(check_result.winner == True) & (check_result.manual_check_winner == False)]"
   ]
  },
  {
   "cell_type": "code",
   "execution_count": null,
   "metadata": {
    "ExecuteTime": {
     "end_time": "2019-07-07T15:17:18.730794Z",
     "start_time": "2019-07-07T15:17:18.719791Z"
    }
   },
   "outputs": [],
   "source": [
    "check_result[check_result.manual_check_winner != check_result.winner].partia.value_counts()"
   ]
  },
  {
   "cell_type": "markdown",
   "metadata": {
    "heading_collapsed": true
   },
   "source": [
    "## gradient boosting"
   ]
  },
  {
   "cell_type": "code",
   "execution_count": null,
   "metadata": {
    "ExecuteTime": {
     "end_time": "2019-07-07T10:09:03.100262Z",
     "start_time": "2019-07-07T10:08:51.998289Z"
    },
    "hidden": true
   },
   "outputs": [],
   "source": [
    "from h2o.estimators.gbm import H2OGradientBoostingEstimator\n",
    "\n",
    "gbm_fit1 = H2OGradientBoostingEstimator(model_id='gbm_fit1', seed=1)\n",
    "gbm_fit1.train(x=x, y=y, training_frame=train)\n",
    "\n",
    "gbm_fit2 = H2OGradientBoostingEstimator(model_id='gbm_fit2', ntrees=500, seed=1)\n",
    "gbm_fit2.train(x=x, y=y, training_frame=train)"
   ]
  },
  {
   "cell_type": "code",
   "execution_count": null,
   "metadata": {
    "ExecuteTime": {
     "end_time": "2019-07-07T10:09:58.721183Z",
     "start_time": "2019-07-07T10:09:57.085861Z"
    },
    "hidden": true
   },
   "outputs": [],
   "source": [
    "gbm_fit3 = H2OGradientBoostingEstimator(model_id='gbm_fit3', \n",
    "                                        ntrees=500, \n",
    "                                        score_tree_interval=5,     #used for early stopping\n",
    "                                        stopping_rounds=3,         #used for early stopping\n",
    "                                        stopping_metric='AUC',     #used for early stopping\n",
    "                                        stopping_tolerance=0.0005, #used for early stopping\n",
    "                                        seed=1)\n",
    "\n",
    "# The use of a validation_frame is recommended with using early stopping\n",
    "gbm_fit3.train(x=x, y=y, training_frame=train, validation_frame=valid)"
   ]
  },
  {
   "cell_type": "code",
   "execution_count": null,
   "metadata": {
    "ExecuteTime": {
     "end_time": "2019-07-07T10:10:07.769387Z",
     "start_time": "2019-07-07T10:10:07.465681Z"
    },
    "hidden": true
   },
   "outputs": [],
   "source": [
    "gbm_perf1 = gbm_fit1.model_performance(test)\n",
    "gbm_perf2 = gbm_fit2.model_performance(test)\n",
    "gbm_perf3 = gbm_fit3.model_performance(test)"
   ]
  },
  {
   "cell_type": "markdown",
   "metadata": {},
   "source": [
    "# not h2o"
   ]
  },
  {
   "cell_type": "code",
   "execution_count": null,
   "metadata": {
    "ExecuteTime": {
     "end_time": "2019-07-14T16:07:22.992786Z",
     "start_time": "2019-07-14T16:07:18.846435Z"
    }
   },
   "outputs": [],
   "source": [
    "from numpy import loadtxt\n",
    "from xgboost import XGBClassifier\n",
    "from sklearn.model_selection import train_test_split\n",
    "from sklearn.metrics import accuracy_score\n",
    "import pandas as pd"
   ]
  },
  {
   "cell_type": "code",
   "execution_count": null,
   "metadata": {
    "ExecuteTime": {
     "end_time": "2019-07-14T16:08:07.182988Z",
     "start_time": "2019-07-14T16:08:06.866565Z"
    }
   },
   "outputs": [],
   "source": [
    "data = pd.read_csv('combined_results.csv')"
   ]
  },
  {
   "cell_type": "code",
   "execution_count": null,
   "metadata": {
    "ExecuteTime": {
     "end_time": "2019-07-08T08:55:09.792286Z",
     "start_time": "2019-07-08T08:55:09.604473Z"
    }
   },
   "outputs": [],
   "source": [
    "# from sklearn.utils import shuffle\n",
    "# data_t = data[data.winner == True]\n",
    "\n",
    "# data_f = data[data.winner == False]\n",
    "\n",
    "# data_f_short = data_f.sample(len(data_f))\n",
    "# data_for_model = pd.concat([data_t, data_f_short], axis=0)\n"
   ]
  },
  {
   "cell_type": "code",
   "execution_count": null,
   "metadata": {
    "ExecuteTime": {
     "end_time": "2019-07-14T16:08:11.057012Z",
     "start_time": "2019-07-14T16:08:09.798524Z"
    }
   },
   "outputs": [],
   "source": [
    "data_dummy = pd.get_dummies(data, prefix_sep='_', drop_first=True)"
   ]
  },
  {
   "cell_type": "code",
   "execution_count": null,
   "metadata": {
    "ExecuteTime": {
     "end_time": "2019-07-14T16:08:14.523334Z",
     "start_time": "2019-07-14T16:08:14.213215Z"
    }
   },
   "outputs": [],
   "source": [
    "Y = data_dummy[['winner']]\n",
    "X = data_dummy.drop(['winner', 'perc_for', 'votes_for'], axis=1)"
   ]
  },
  {
   "cell_type": "code",
   "execution_count": null,
   "metadata": {
    "ExecuteTime": {
     "end_time": "2019-07-14T16:08:20.596291Z",
     "start_time": "2019-07-14T16:08:20.197989Z"
    }
   },
   "outputs": [],
   "source": [
    "seed = 7\n",
    "test_size = 0.33\n",
    "X_train, X_test, y_train, y_test = train_test_split(X, Y, test_size=test_size, random_state=seed)"
   ]
  },
  {
   "cell_type": "code",
   "execution_count": null,
   "metadata": {
    "ExecuteTime": {
     "end_time": "2019-07-08T09:26:39.112990Z",
     "start_time": "2019-07-08T09:26:38.622695Z"
    }
   },
   "outputs": [],
   "source": [
    "# X_train = pd.get_dummies(X_train, prefix_sep='_', drop_first=True)\n",
    "# X_test = pd.get_dummies(X_test, prefix_sep='_', drop_first=True)"
   ]
  },
  {
   "cell_type": "code",
   "execution_count": null,
   "metadata": {
    "ExecuteTime": {
     "end_time": "2019-07-14T16:10:49.335124Z",
     "start_time": "2019-07-14T16:08:29.821146Z"
    }
   },
   "outputs": [],
   "source": [
    "# fit model no training data\n",
    "model = XGBClassifier(\n",
    "#     learning_rate =0.007,\n",
    "#     n_estimators=1000,\n",
    "#     max_depth = 3,\n",
    "#     min_child_weight = 5,\n",
    "#     gamma=0.4,\n",
    "#     subsample=0.55,\n",
    "#     colsample_bytree=0.85,\n",
    "#     reg_alpha=0.005,\n",
    "#     objective= 'binary:logistic',\n",
    "#     nthread=2,\n",
    "    scale_pos_weight=13,\n",
    ")\n",
    "model.fit(X_train, y_train)"
   ]
  },
  {
   "cell_type": "code",
   "execution_count": null,
   "metadata": {
    "ExecuteTime": {
     "end_time": "2019-07-14T16:10:57.831122Z",
     "start_time": "2019-07-14T16:10:55.972213Z"
    }
   },
   "outputs": [],
   "source": [
    "# make predictions for test data\n",
    "y_pred = model.predict(X_test)\n",
    "predictions = [round(value) for value in y_pred]"
   ]
  },
  {
   "cell_type": "code",
   "execution_count": null,
   "metadata": {
    "ExecuteTime": {
     "end_time": "2019-07-14T16:11:09.895331Z",
     "start_time": "2019-07-14T16:11:04.607236Z"
    }
   },
   "outputs": [],
   "source": [
    "from sklearn.metrics import mean_absolute_error\n",
    "from sklearn.metrics import roc_auc_score\n",
    "\n",
    "# Performance sur le train\n",
    "auc = roc_auc_score(y_train, model.predict(X_train))\n",
    "print(\"Performance sur le train : \", auc)\n",
    "\n",
    "# Performance sur le test\n",
    "auc = roc_auc_score(y_test, model.predict(X_test))\n",
    "print(\"Performance sur le test : \", auc)"
   ]
  },
  {
   "cell_type": "code",
   "execution_count": null,
   "metadata": {
    "ExecuteTime": {
     "end_time": "2019-07-14T21:49:14.913624Z",
     "start_time": "2019-07-14T21:49:13.094095Z"
    }
   },
   "outputs": [],
   "source": [
    "pred = model.predict_proba(X_test)"
   ]
  },
  {
   "cell_type": "code",
   "execution_count": null,
   "metadata": {
    "ExecuteTime": {
     "end_time": "2019-07-14T21:49:42.783765Z",
     "start_time": "2019-07-14T21:49:42.777869Z"
    }
   },
   "outputs": [],
   "source": [
    "pred"
   ]
  },
  {
   "cell_type": "code",
   "execution_count": null,
   "metadata": {
    "ExecuteTime": {
     "end_time": "2019-07-14T21:50:31.136658Z",
     "start_time": "2019-07-14T21:50:31.131210Z"
    }
   },
   "outputs": [],
   "source": [
    "pred[:5,1]"
   ]
  },
  {
   "cell_type": "code",
   "execution_count": null,
   "metadata": {
    "ExecuteTime": {
     "end_time": "2019-07-14T21:51:21.561743Z",
     "start_time": "2019-07-14T21:51:21.554192Z"
    }
   },
   "outputs": [],
   "source": [
    "sum([0.37040956, 0.13334107, 0.22757675, 0.13501285, 0.1])"
   ]
  },
  {
   "cell_type": "code",
   "execution_count": null,
   "metadata": {
    "ExecuteTime": {
     "end_time": "2019-07-14T22:54:55.350869Z",
     "start_time": "2019-07-14T22:54:55.346906Z"
    }
   },
   "outputs": [],
   "source": [
    "import bisect\n",
    "\n",
    "loi = [0, 0.1, 0.13334107, 0.13501285, 0.22757675, 0.37040956, 1]\n",
    "index = bisect.bisect_left(loi, 0.9)"
   ]
  },
  {
   "cell_type": "code",
   "execution_count": null,
   "metadata": {
    "ExecuteTime": {
     "end_time": "2019-07-14T22:55:10.942884Z",
     "start_time": "2019-07-14T22:55:10.935750Z"
    }
   },
   "outputs": [],
   "source": [
    "loi[index]"
   ]
  },
  {
   "cell_type": "code",
   "execution_count": null,
   "metadata": {
    "ExecuteTime": {
     "end_time": "2019-07-14T21:54:10.270607Z",
     "start_time": "2019-07-14T21:54:10.262826Z"
    }
   },
   "outputs": [],
   "source": [
    "loi[index-1], loi[index]"
   ]
  },
  {
   "cell_type": "code",
   "execution_count": null,
   "metadata": {
    "ExecuteTime": {
     "end_time": "2019-07-14T16:24:18.674814Z",
     "start_time": "2019-07-14T16:24:18.670907Z"
    }
   },
   "outputs": [],
   "source": [
    "import numpy as np"
   ]
  },
  {
   "cell_type": "code",
   "execution_count": null,
   "metadata": {
    "ExecuteTime": {
     "end_time": "2019-07-14T16:25:10.147549Z",
     "start_time": "2019-07-14T16:25:10.140032Z"
    }
   },
   "outputs": [],
   "source": [
    "np.array([1,2,3]) < np.array([[4,0.5,6],[4,0.5,1] ])"
   ]
  },
  {
   "cell_type": "code",
   "execution_count": null,
   "metadata": {
    "ExecuteTime": {
     "end_time": "2019-07-14T16:11:16.644250Z",
     "start_time": "2019-07-14T16:11:16.637911Z"
    }
   },
   "outputs": [],
   "source": [
    "# evaluate predictions\n",
    "accuracy = accuracy_score(y_test, predictions)\n",
    "print(\"Accuracy: %.2f%%\" % (accuracy * 100.0))"
   ]
  },
  {
   "cell_type": "code",
   "execution_count": null,
   "metadata": {
    "ExecuteTime": {
     "end_time": "2019-07-14T16:11:23.494160Z",
     "start_time": "2019-07-14T16:11:23.483157Z"
    }
   },
   "outputs": [],
   "source": [
    "from sklearn.metrics import confusion_matrix\n",
    "# \n",
    "# confusion_matrix(y_test, np.random.choice(a=[False, True], size=(1961,), p=[1-0.07445181030086691, 0.07445181030086691]))\n",
    "confusion_matrix(y_test, y_pred)\n"
   ]
  },
  {
   "cell_type": "code",
   "execution_count": null,
   "metadata": {
    "ExecuteTime": {
     "end_time": "2019-07-08T09:23:37.108475Z",
     "start_time": "2019-07-08T09:23:37.094857Z"
    }
   },
   "outputs": [],
   "source": [
    "y_test.winner.value_counts()"
   ]
  },
  {
   "cell_type": "code",
   "execution_count": null,
   "metadata": {
    "ExecuteTime": {
     "end_time": "2019-07-08T09:22:32.151375Z",
     "start_time": "2019-07-08T09:22:32.136595Z"
    }
   },
   "outputs": [],
   "source": [
    "sum(y_test.values)\n",
    "146/1961 * 100"
   ]
  },
  {
   "cell_type": "code",
   "execution_count": null,
   "metadata": {
    "ExecuteTime": {
     "end_time": "2019-07-08T09:22:34.817576Z",
     "start_time": "2019-07-08T09:22:34.810861Z"
    }
   },
   "outputs": [],
   "source": [
    "100-7.445181030086691 + 7.445181030086691"
   ]
  },
  {
   "cell_type": "code",
   "execution_count": null,
   "metadata": {
    "ExecuteTime": {
     "end_time": "2019-07-08T09:09:24.538468Z",
     "start_time": "2019-07-08T09:09:24.530213Z"
    }
   },
   "outputs": [],
   "source": []
  },
  {
   "cell_type": "code",
   "execution_count": null,
   "metadata": {
    "ExecuteTime": {
     "end_time": "2019-07-08T09:22:37.451268Z",
     "start_time": "2019-07-08T09:22:37.445435Z"
    }
   },
   "outputs": [],
   "source": [
    "len(y_test.values)"
   ]
  },
  {
   "cell_type": "code",
   "execution_count": null,
   "metadata": {
    "ExecuteTime": {
     "end_time": "2019-07-14T15:13:16.441990Z",
     "start_time": "2019-07-14T15:13:13.832315Z"
    }
   },
   "outputs": [],
   "source": [
    "import pandas as pd"
   ]
  },
  {
   "cell_type": "code",
   "execution_count": null,
   "metadata": {
    "ExecuteTime": {
     "end_time": "2019-07-14T15:13:17.035037Z",
     "start_time": "2019-07-14T15:13:16.464727Z"
    }
   },
   "outputs": [],
   "source": [
    "df = pd.read_csv(\"combined_results_cleaned.csv\")"
   ]
  },
  {
   "cell_type": "code",
   "execution_count": null,
   "metadata": {
    "ExecuteTime": {
     "end_time": "2019-07-14T15:25:56.323436Z",
     "start_time": "2019-07-14T15:25:56.109509Z"
    }
   },
   "outputs": [],
   "source": [
    "year_2012 = df.loc[(df.year == 2012) & (df.winner == True)][['deputat', 'year', 'tvo', 'birthday']]\n",
    "year_2014 = df.loc[(df.year == 2014) & (df.winner == True)][['deputat', 'year', 'tvo', 'birthday']]\n",
    "\n",
    "year_2012['fixed_previous'] = True\n",
    "year_2014['fixed_previous'] = True\n",
    "\n",
    "year_2012['year'] = 2014\n",
    "year_2014['year'] = 2019\n",
    "\n",
    "\n",
    "year_2012_2014 = pd.concat([year_2012, year_2014])\n"
   ]
  },
  {
   "cell_type": "code",
   "execution_count": null,
   "metadata": {
    "ExecuteTime": {
     "end_time": "2019-07-14T15:26:00.422254Z",
     "start_time": "2019-07-14T15:26:00.369823Z"
    }
   },
   "outputs": [],
   "source": [
    "temp = pd.merge(df, year_2012_2014, on=['deputat', 'year', 'tvo', 'birthday'], how='left')"
   ]
  },
  {
   "cell_type": "code",
   "execution_count": null,
   "metadata": {
    "ExecuteTime": {
     "end_time": "2019-07-14T15:29:00.744660Z",
     "start_time": "2019-07-14T15:29:00.717814Z"
    }
   },
   "outputs": [],
   "source": [
    "temp[(~temp.fixed_previous.isnull()) & (temp.year == 2019)].proposed.value_counts()"
   ]
  },
  {
   "cell_type": "code",
   "execution_count": null,
   "metadata": {
    "ExecuteTime": {
     "end_time": "2019-07-14T16:03:46.555053Z",
     "start_time": "2019-07-14T16:03:46.535253Z"
    }
   },
   "outputs": [],
   "source": [
    "temp[(temp.year == 2012) & (temp.funding > 0)].winner.value_counts()"
   ]
  },
  {
   "cell_type": "code",
   "execution_count": null,
   "metadata": {
    "ExecuteTime": {
     "end_time": "2019-07-14T15:50:12.391727Z",
     "start_time": "2019-07-14T15:50:11.865814Z"
    }
   },
   "outputs": [],
   "source": [
    "def check_funding(x):\n",
    "    if (x['fixed_previous'] == True):\n",
    "        return x['funding']\n",
    "    if((x['year'] == 2012) & (x['proposed'] == 'партія регіонів')):\n",
    "        return x['funding']\n",
    "    else:\n",
    "        return 0\n",
    "\n",
    "temp['funding_fixed'] = temp.apply(check_funding, axis=1)"
   ]
  },
  {
   "cell_type": "code",
   "execution_count": null,
   "metadata": {
    "ExecuteTime": {
     "end_time": "2019-07-14T15:59:23.267465Z",
     "start_time": "2019-07-14T15:59:23.245016Z"
    }
   },
   "outputs": [],
   "source": [
    "temp.loc[(temp.funding_fixed > 0) & (temp.year == 2019)].oblast.value_counts()"
   ]
  },
  {
   "cell_type": "code",
   "execution_count": null,
   "metadata": {
    "ExecuteTime": {
     "end_time": "2019-07-14T15:33:03.639600Z",
     "start_time": "2019-07-14T15:33:03.489236Z"
    }
   },
   "outputs": [],
   "source": [
    "temp[temp.fixed_previous == True]"
   ]
  },
  {
   "cell_type": "code",
   "execution_count": null,
   "metadata": {
    "ExecuteTime": {
     "end_time": "2019-07-14T21:57:05.948357Z",
     "start_time": "2019-07-14T21:57:05.478347Z"
    }
   },
   "outputs": [],
   "source": [
    "temp.to_csv('combined_results_cleaned.csv', index=False)"
   ]
  },
  {
   "cell_type": "markdown",
   "metadata": {},
   "source": [
    "## model new data"
   ]
  },
  {
   "cell_type": "code",
   "execution_count": null,
   "metadata": {
    "ExecuteTime": {
     "end_time": "2019-07-14T21:57:30.495088Z",
     "start_time": "2019-07-14T21:57:30.298714Z"
    }
   },
   "outputs": [],
   "source": [
    "df = pd.read_csv('combined_results_cleaned.csv')"
   ]
  },
  {
   "cell_type": "code",
   "execution_count": null,
   "metadata": {
    "ExecuteTime": {
     "end_time": "2019-07-14T22:20:26.481701Z",
     "start_time": "2019-07-14T22:20:26.286646Z"
    }
   },
   "outputs": [],
   "source": [
    "df.loc[df.year == 2012]"
   ]
  },
  {
   "cell_type": "code",
   "execution_count": null,
   "metadata": {
    "ExecuteTime": {
     "end_time": "2019-07-14T22:16:36.545676Z",
     "start_time": "2019-07-14T22:16:36.537533Z"
    }
   },
   "outputs": [],
   "source": [
    "df.prop_election_forecast.unique()\n",
    "\n",
    "\n",
    "{30.7:30.7,  nan, 12.9, 19.5, 22.1,  6.5, 23. ,  5.6, 13.2,  6.4,  7.6,\n",
    "       21.3,  6.3}"
   ]
  },
  {
   "cell_type": "code",
   "execution_count": null,
   "metadata": {
    "ExecuteTime": {
     "end_time": "2019-07-14T22:09:46.310202Z",
     "start_time": "2019-07-14T22:09:46.294217Z"
    }
   },
   "outputs": [],
   "source": [
    "for d in ['proposed', 'gender', 'job', 'city_living', 'party', 'tvo_pres',\n",
    " 'pres_candidate', 'region_ideology', 'party_ideology', 'oblast']:\n",
    "    df[d] = df[d].astype('category')"
   ]
  },
  {
   "cell_type": "code",
   "execution_count": null,
   "metadata": {
    "ExecuteTime": {
     "end_time": "2019-07-14T22:08:37.196203Z",
     "start_time": "2019-07-14T22:08:37.189644Z"
    }
   },
   "outputs": [],
   "source": [
    "train.columns"
   ]
  },
  {
   "cell_type": "code",
   "execution_count": null,
   "metadata": {
    "ExecuteTime": {
     "end_time": "2019-07-14T22:09:54.104376Z",
     "start_time": "2019-07-14T22:09:54.074517Z"
    }
   },
   "outputs": [],
   "source": [
    "train = df.loc[df.year < 2019]\n",
    "winners = train[['winner', 'perc_for']]\n",
    "train = train.drop(['deputat', 'winner', 'registration','tvo_pres', 'birthday', 'perc_for', 'votes_for', 'year', 'info', 'funding', 'previous', 'pres_votes_for'],\n",
    "                   axis=1)\n",
    "\n",
    "predict_set = df.loc[df.year == 2019]\n",
    "predict_set = predict_set.drop(['deputat','winner', 'registration','tvo_pres', 'birthday', 'perc_for', 'votes_for', 'year', 'info', 'funding', 'previous', 'pres_votes_for'],\n",
    "                   axis=1)"
   ]
  },
  {
   "cell_type": "code",
   "execution_count": null,
   "metadata": {
    "ExecuteTime": {
     "end_time": "2019-07-14T22:10:02.050757Z",
     "start_time": "2019-07-14T22:10:01.874073Z"
    }
   },
   "outputs": [],
   "source": [
    "train_set_dummy = pd.get_dummies(train, prefix_sep='_', drop_first=True)\n",
    "predict_set_dummy = pd.get_dummies(predict_set, prefix_sep='_', drop_first=True)"
   ]
  },
  {
   "cell_type": "code",
   "execution_count": null,
   "metadata": {
    "ExecuteTime": {
     "end_time": "2019-07-14T22:12:52.892196Z",
     "start_time": "2019-07-14T22:12:25.310223Z"
    }
   },
   "outputs": [],
   "source": [
    "# fit model no training data\n",
    "model = XGBClassifier(\n",
    "#     learning_rate =0.007,\n",
    "#     n_estimators=1000,\n",
    "#     max_depth = 3,\n",
    "#     min_child_weight = 5,\n",
    "#     gamma=0.4,\n",
    "#     subsample=0.55,\n",
    "#     colsample_bytree=0.85,\n",
    "#     reg_alpha=0.005,\n",
    "#     objective= 'binary:logistic',\n",
    "#     nthread=2,\n",
    "    scale_pos_weight=13,\n",
    ")\n",
    "model.fit(train_set_dummy, winners.winner)"
   ]
  },
  {
   "cell_type": "code",
   "execution_count": null,
   "metadata": {
    "ExecuteTime": {
     "end_time": "2019-07-14T22:13:19.684757Z",
     "start_time": "2019-07-14T22:13:19.029500Z"
    }
   },
   "outputs": [],
   "source": [
    "predictions = model.predict_proba(predict_set_dummy)"
   ]
  },
  {
   "cell_type": "code",
   "execution_count": null,
   "metadata": {
    "ExecuteTime": {
     "end_time": "2019-07-14T22:15:10.739437Z",
     "start_time": "2019-07-14T22:15:10.341355Z"
    }
   },
   "outputs": [],
   "source": [
    "predicted_data = df.loc[df.year == 2019]\n",
    "predicted_data['true_prob'] = predictions[:,1]"
   ]
  },
  {
   "cell_type": "markdown",
   "metadata": {},
   "source": [
    "## modeling by party"
   ]
  },
  {
   "cell_type": "code",
   "execution_count": 65,
   "metadata": {
    "ExecuteTime": {
     "end_time": "2019-07-15T00:55:49.456644Z",
     "start_time": "2019-07-15T00:55:49.423445Z"
    }
   },
   "outputs": [],
   "source": [
    "import pandas as pd\n",
    "\n",
    "predicted_data_five = pd.read_csv('predicted_data_five.csv')"
   ]
  },
  {
   "cell_type": "code",
   "execution_count": 66,
   "metadata": {
    "ExecuteTime": {
     "end_time": "2019-07-15T00:55:55.019133Z",
     "start_time": "2019-07-15T00:55:55.006810Z"
    }
   },
   "outputs": [
    {
     "ename": "NameError",
     "evalue": "name 'predicted_data' is not defined",
     "output_type": "error",
     "traceback": [
      "\u001b[0;31m---------------------------------------------------------------------------\u001b[0m",
      "\u001b[0;31mNameError\u001b[0m                                 Traceback (most recent call last)",
      "\u001b[0;32m<ipython-input-66-e7f0fdcda7c6>\u001b[0m in \u001b[0;36m<module>\u001b[0;34m\u001b[0m\n\u001b[0;32m----> 1\u001b[0;31m predicted_data_five = (predicted_data.sort_values('true_prob', ascending=False)\n\u001b[0m\u001b[1;32m      2\u001b[0m                            .groupby('tvo').head(5).sort_values('tvo'))\n",
      "\u001b[0;31mNameError\u001b[0m: name 'predicted_data' is not defined"
     ]
    }
   ],
   "source": [
    "predicted_data_five = (predicted_data.sort_values('true_prob', ascending=False)\n",
    "                           .groupby('tvo').head(5).sort_values('tvo'))"
   ]
  },
  {
   "cell_type": "code",
   "execution_count": 67,
   "metadata": {
    "ExecuteTime": {
     "end_time": "2019-07-15T00:55:59.280029Z",
     "start_time": "2019-07-15T00:55:59.270368Z"
    }
   },
   "outputs": [],
   "source": [
    "predicted_data_five['true_prob_sum'] = predicted_data_five.groupby('tvo')['true_prob'].transform(sum)"
   ]
  },
  {
   "cell_type": "code",
   "execution_count": 68,
   "metadata": {
    "ExecuteTime": {
     "end_time": "2019-07-15T00:56:01.408273Z",
     "start_time": "2019-07-15T00:56:01.399728Z"
    }
   },
   "outputs": [],
   "source": [
    "predicted_data_five['true_prob_two_1'] = predicted_data_five.true_prob/ predicted_data_five.true_prob_sum "
   ]
  },
  {
   "cell_type": "code",
   "execution_count": null,
   "metadata": {
    "ExecuteTime": {
     "end_time": "2019-07-14T22:31:32.845483Z",
     "start_time": "2019-07-14T22:31:32.792992Z"
    }
   },
   "outputs": [],
   "source": [
    "# predicted_data_five.to_csv('predicted_data_five.csv', index=False)"
   ]
  },
  {
   "cell_type": "code",
   "execution_count": 69,
   "metadata": {
    "ExecuteTime": {
     "end_time": "2019-07-15T00:56:03.989224Z",
     "start_time": "2019-07-15T00:56:03.951633Z"
    }
   },
   "outputs": [],
   "source": [
    "prob = (predicted_data_five.sort_values('true_prob_two_1').groupby('tvo')\n",
    "     .apply(lambda x: [list(x['true_prob_two_1'].values), list(x['proposed'].values)]).reset_index(name = 'prob'))"
   ]
  },
  {
   "cell_type": "code",
   "execution_count": null,
   "metadata": {
    "ExecuteTime": {
     "end_time": "2019-07-14T23:32:14.444612Z",
     "start_time": "2019-07-14T23:32:14.435696Z"
    }
   },
   "outputs": [],
   "source": [
    "prob['party_list'] = prob.prob.str[1]\n",
    "prob['prob'] = prob.prob.str[0]"
   ]
  },
  {
   "cell_type": "code",
   "execution_count": null,
   "metadata": {
    "ExecuteTime": {
     "end_time": "2019-07-14T23:37:47.857821Z",
     "start_time": "2019-07-14T23:37:47.848140Z"
    }
   },
   "outputs": [],
   "source": [
    "\n",
    "prob['prob_full'] = prob['prob'] + np.random.normal(0.00001, 0.00002,size=1)"
   ]
  },
  {
   "cell_type": "code",
   "execution_count": null,
   "metadata": {
    "ExecuteTime": {
     "end_time": "2019-07-14T23:38:10.609077Z",
     "start_time": "2019-07-14T23:38:10.492918Z"
    }
   },
   "outputs": [],
   "source": [
    "random_modeling = [np.random.normal(0.5, 0.25,size=10000) for a in range(0,199)]"
   ]
  },
  {
   "cell_type": "code",
   "execution_count": null,
   "metadata": {
    "ExecuteTime": {
     "end_time": "2019-07-14T23:40:06.040930Z",
     "start_time": "2019-07-14T23:38:21.827592Z"
    }
   },
   "outputs": [],
   "source": [
    "from tqdm import tqdm_notebook as tqdm\n",
    "\n",
    "res = []\n",
    "for a in tqdm(range(0,len(prob.prob_full))):\n",
    "    res.append([min(prob.prob_full[a], key=lambda x:abs(x-b)) for b in random_modeling[a]])\n"
   ]
  },
  {
   "cell_type": "code",
   "execution_count": null,
   "metadata": {
    "ExecuteTime": {
     "end_time": "2019-07-14T23:40:17.540814Z",
     "start_time": "2019-07-14T23:40:17.489034Z"
    }
   },
   "outputs": [],
   "source": [
    "prob['res'] = res"
   ]
  },
  {
   "cell_type": "code",
   "execution_count": null,
   "metadata": {
    "ExecuteTime": {
     "end_time": "2019-07-14T23:40:48.291173Z",
     "start_time": "2019-07-14T23:40:47.993252Z"
    }
   },
   "outputs": [],
   "source": [
    "def find_winner_party(x):\n",
    "    dictionary = dict(zip(x['prob_full'], x['party_list']))\n",
    "    return [dictionary[d] for d in x['res']]\n",
    "    \n",
    "\n",
    "prob['winner_party'] = prob.apply(lambda x: find_winner_party(x), axis=1)"
   ]
  },
  {
   "cell_type": "code",
   "execution_count": null,
   "metadata": {
    "ExecuteTime": {
     "end_time": "2019-07-14T23:54:46.224993Z",
     "start_time": "2019-07-14T23:53:58.665723Z"
    }
   },
   "outputs": [],
   "source": [
    "final = []\n",
    "for number in tqdm(range(0,9999)):\n",
    "    final.append(pd.DataFrame({'name':prob.winner_party.str[number].value_counts().index,\n",
    "     'n': prob.winner_party.str[number].value_counts().values,\n",
    "     'trial': number\n",
    "    }))"
   ]
  },
  {
   "cell_type": "code",
   "execution_count": null,
   "metadata": {
    "ExecuteTime": {
     "end_time": "2019-07-14T23:55:53.568915Z",
     "start_time": "2019-07-14T23:55:51.967487Z"
    }
   },
   "outputs": [],
   "source": [
    "final_df = pd.concat(final)\n",
    "\n"
   ]
  },
  {
   "cell_type": "code",
   "execution_count": null,
   "metadata": {},
   "outputs": [],
   "source": [
    "# as functions"
   ]
  },
  {
   "cell_type": "code",
   "execution_count": 43,
   "metadata": {
    "ExecuteTime": {
     "end_time": "2019-07-15T00:36:00.878001Z",
     "start_time": "2019-07-15T00:36:00.857021Z"
    }
   },
   "outputs": [],
   "source": [
    "def modeling_parties_as_function(df, col_name):\n",
    "    from tqdm import tqdm_notebook as tqdm\n",
    "    \n",
    "    def check_if_smaller(list_of_pred, number):\n",
    "        list_of_pred = list_of_pred[::-1]\n",
    "        if (list_of_pred[0] > number):\n",
    "            return list_of_pred[0]\n",
    "        if (list_of_pred[0] + list_of_pred[1] > number):\n",
    "            return list_of_pred[1]\n",
    "        if (list_of_pred[0] + list_of_pred[1] + list_of_pred[2] > number):\n",
    "            return list_of_pred[2]\n",
    "        if (list_of_pred[0] + list_of_pred[1] + list_of_pred[2] + list_of_pred[3] > number):\n",
    "            return list_of_pred[3]\n",
    "        else:\n",
    "            return list_of_pred[4]\n",
    "    \n",
    "    \n",
    "#     for full data, to get top 5 results\n",
    "#     df = (df.sort_values(col_name, ascending=False)\n",
    "#                            .groupby('tvo').head(5).sort_values('tvo'))\n",
    "    \n",
    "    df['true_prob_sum'] = df.groupby('tvo')[col_name].transform(sum)\n",
    "    df['true_prob_two_1'] = df[col_name] / df.true_prob_sum \n",
    "\n",
    "    prob = (df.sort_values('true_prob_two_1').groupby('tvo')\n",
    "                 .apply(lambda x: [list(x['true_prob_two_1'].values), \n",
    "                                   list(x['proposed'].values),\n",
    "                                    list(x['deputat'])]\n",
    "                        ).reset_index(name = 'prob'))\n",
    "\n",
    "    prob['prob'] = prob.prob.str[0]\n",
    "    prob['party_list'] = prob.prob.str[1]\n",
    "    prob['deputat'] = prob.prob.str[2]\n",
    "\n",
    "\n",
    "#     generating random trials\n",
    "    random_modeling = [np.random.normal(0.5, 0.25,size=10000) for a in range(0,199)]\n",
    "    \n",
    "#     for situation with the same probability\n",
    "    prob['prob_full'] = prob['prob'] + np.random.normal(0.00001, 0.00002,size=1)\n",
    "\n",
    "\n",
    "    res = []\n",
    "    for a in tqdm(range(0,len(prob.prob_full))):\n",
    "        res.append([check_if_smaller(prob.prob_full[a], b) for b in random_modeling[a]])\n",
    "\n",
    "\n",
    "    prob['res'] = res\n",
    "\n",
    "    def find_winner_party(x):\n",
    "        dictionary = dict(zip(x['prob_full'], x['party_list']))\n",
    "        return [dictionary[d] for d in x['res']]\n",
    "\n",
    "\n",
    "    prob['winner_party'] = prob.apply(lambda x: find_winner_party(x), axis=1)\n",
    "\n",
    "    final = []\n",
    "    for number in tqdm(range(0,10000)):\n",
    "        final.append(pd.DataFrame({'name':prob.winner_party.str[number].value_counts().index,\n",
    "         'n': prob.winner_party.str[number].value_counts().values,\n",
    "         'trial': number\n",
    "        }))\n",
    "\n",
    "\n",
    "    final_df = pd.concat(final)\n",
    "    return final_df\n",
    "\n",
    "\n"
   ]
  },
  {
   "cell_type": "code",
   "execution_count": 44,
   "metadata": {
    "ExecuteTime": {
     "end_time": "2019-07-15T00:38:19.253911Z",
     "start_time": "2019-07-15T00:36:03.371571Z"
    }
   },
   "outputs": [
    {
     "data": {
      "application/vnd.jupyter.widget-view+json": {
       "model_id": "ea9f69ac2c984aca91a737033ddeb334",
       "version_major": 2,
       "version_minor": 0
      },
      "text/plain": [
       "HBox(children=(IntProgress(value=0, max=199), HTML(value='')))"
      ]
     },
     "metadata": {},
     "output_type": "display_data"
    },
    {
     "name": "stdout",
     "output_type": "stream",
     "text": [
      "\n"
     ]
    },
    {
     "data": {
      "application/vnd.jupyter.widget-view+json": {
       "model_id": "8ef3b31f3da0450fbb16034d88f0d613",
       "version_major": 2,
       "version_minor": 0
      },
      "text/plain": [
       "HBox(children=(IntProgress(value=0, max=10000), HTML(value='')))"
      ]
     },
     "metadata": {},
     "output_type": "display_data"
    },
    {
     "name": "stdout",
     "output_type": "stream",
     "text": [
      "\n"
     ]
    }
   ],
   "source": [
    "final_df = modeling_parties_as_function(predicted_data_five, 'true_prob')"
   ]
  },
  {
   "cell_type": "code",
   "execution_count": 64,
   "metadata": {
    "ExecuteTime": {
     "end_time": "2019-07-15T00:55:26.971573Z",
     "start_time": "2019-07-15T00:55:26.321916Z"
    }
   },
   "outputs": [
    {
     "data": {
      "text/plain": [
       "<matplotlib.axes._subplots.AxesSubplot at 0x7f682acf0b38>"
      ]
     },
     "execution_count": 64,
     "metadata": {},
     "output_type": "execute_result"
    },
    {
     "data": {
      "image/png": "[encoded data removed]",
      "text/plain": [
       "<Figure size 432x288 with 1 Axes>"
      ]
     },
     "metadata": {
      "needs_background": "light"
     },
     "output_type": "display_data"
    }
   ],
   "source": [
    "final_df[final_df.name == 'політична партія всеукраїнське обєднання свобода'].n.plot.density()"
   ]
  },
  {
   "cell_type": "code",
   "execution_count": 24,
   "metadata": {
    "ExecuteTime": {
     "end_time": "2019-07-15T12:17:50.549744Z",
     "start_time": "2019-07-15T12:17:50.364950Z"
    }
   },
   "outputs": [],
   "source": [
    "df = pd.read_csv('combined_results_cleaned.csv')"
   ]
  },
  {
   "cell_type": "code",
   "execution_count": 25,
   "metadata": {
    "ExecuteTime": {
     "end_time": "2019-07-15T12:17:51.676080Z",
     "start_time": "2019-07-15T12:17:51.361351Z"
    }
   },
   "outputs": [
    {
     "data": {
      "text/plain": [
       "<matplotlib.axes._subplots.AxesSubplot at 0x7f9310040b38>"
      ]
     },
     "execution_count": 25,
     "metadata": {},
     "output_type": "execute_result"
    },
    {
     "data": {
      "image/png": "[encoded data removed]",
      "text/plain": [
       "<Figure size 432x288 with 1 Axes>"
      ]
     },
     "metadata": {
      "needs_background": "light"
     },
     "output_type": "display_data"
    }
   ],
   "source": [
    "df.funding.plot.hist()"
   ]
  },
  {
   "cell_type": "code",
   "execution_count": 31,
   "metadata": {
    "ExecuteTime": {
     "end_time": "2019-07-15T12:19:18.405368Z",
     "start_time": "2019-07-15T12:19:18.398208Z"
    }
   },
   "outputs": [
    {
     "data": {
      "text/plain": [
       "array([30.7,  nan, 12.9, 19.5, 22.1,  6.5, 23. ,  5.6, 13.2,  6.4,  7.6,\n",
       "       21.3,  6.3,  8.3, 12. ,  3.9, 45.5,  7.2,  6.6])"
      ]
     },
     "execution_count": 31,
     "metadata": {},
     "output_type": "execute_result"
    }
   ],
   "source": [
    "df.prop_election_forecast.unique()"
   ]
  },
  {
   "cell_type": "code",
   "execution_count": 16,
   "metadata": {
    "ExecuteTime": {
     "end_time": "2019-07-15T12:15:38.465275Z",
     "start_time": "2019-07-15T12:15:38.451375Z"
    }
   },
   "outputs": [
    {
     "data": {
      "text/plain": [
       "партія регіонів                                                                     115\n",
       "самовисування                                                                        45\n",
       "політична партія всеукраїнське обєднання батьківщина                                 40\n",
       "політична партія всеукраїнське обєднання свобода                                     12\n",
       "політична партія удар український демократичний альянс за реформи віталія кличка      6\n",
       "політична партія єдиний центр                                                         3\n",
       "народна партія                                                                        2\n",
       "радикальна партія олега ляшка                                                         1\n",
       "партія союз                                                                           1\n",
       "Name: proposed, dtype: int64"
      ]
     },
     "execution_count": 16,
     "metadata": {},
     "output_type": "execute_result"
    }
   ],
   "source": [
    "df.loc[(df.year == 2012) & (df.winner == True)].proposed.value_counts()"
   ]
  },
  {
   "cell_type": "code",
   "execution_count": 14,
   "metadata": {
    "ExecuteTime": {
     "end_time": "2019-07-15T11:47:23.736534Z",
     "start_time": "2019-07-15T11:47:23.543296Z"
    }
   },
   "outputs": [],
   "source": [
    "import pandas as pd\n",
    "df = pd.read_csv('combined_results_cleaned.csv')"
   ]
  },
  {
   "cell_type": "code",
   "execution_count": 13,
   "metadata": {
    "ExecuteTime": {
     "end_time": "2019-07-15T11:12:17.811467Z",
     "start_time": "2019-07-15T11:12:17.681796Z"
    }
   },
   "outputs": [
    {
     "data": {
      "text/html": [
       "<div>\n",
       "<style scoped>\n",
       "    .dataframe tbody tr th:only-of-type {\n",
       "        vertical-align: middle;\n",
       "    }\n",
       "\n",
       "    .dataframe tbody tr th {\n",
       "        vertical-align: top;\n",
       "    }\n",
       "\n",
       "    .dataframe thead th {\n",
       "        text-align: right;\n",
       "    }\n",
       "</style>\n",
       "<table border=\"1\" class=\"dataframe\">\n",
       "  <thead>\n",
       "    <tr style=\"text-align: right;\">\n",
       "      <th></th>\n",
       "      <th>deputat</th>\n",
       "      <th>perc_for</th>\n",
       "      <th>votes_for</th>\n",
       "      <th>tvo</th>\n",
       "      <th>oblast</th>\n",
       "      <th>year</th>\n",
       "      <th>info</th>\n",
       "      <th>proposed</th>\n",
       "      <th>registration</th>\n",
       "      <th>gender</th>\n",
       "      <th>...</th>\n",
       "      <th>winner</th>\n",
       "      <th>average_age</th>\n",
       "      <th>pop_change</th>\n",
       "      <th>region_ideology</th>\n",
       "      <th>previous</th>\n",
       "      <th>ever</th>\n",
       "      <th>funding</th>\n",
       "      <th>power_status</th>\n",
       "      <th>party_ideology</th>\n",
       "      <th>prop_election_forecast</th>\n",
       "    </tr>\n",
       "  </thead>\n",
       "  <tbody>\n",
       "    <tr>\n",
       "      <th>0</th>\n",
       "      <td>Дзоз Віталіна Олексіївна</td>\n",
       "      <td>38.76</td>\n",
       "      <td>27937.0</td>\n",
       "      <td>1</td>\n",
       "      <td>Автономна Республіка Крим</td>\n",
       "      <td>2012</td>\n",
       "      <td>народилася 16 листопада 1955 року в місті Крив...</td>\n",
       "      <td>партія регіонів</td>\n",
       "      <td>2012-08-07</td>\n",
       "      <td>F</td>\n",
       "      <td>...</td>\n",
       "      <td>True</td>\n",
       "      <td>40.4</td>\n",
       "      <td>1.1</td>\n",
       "      <td>blue</td>\n",
       "      <td>False</td>\n",
       "      <td>False</td>\n",
       "      <td>0</td>\n",
       "      <td>yes</td>\n",
       "      <td>blue</td>\n",
       "      <td>30.7</td>\n",
       "    </tr>\n",
       "    <tr>\n",
       "      <th>1</th>\n",
       "      <td>Грач Леонід Іванович</td>\n",
       "      <td>17.98</td>\n",
       "      <td>12960.0</td>\n",
       "      <td>1</td>\n",
       "      <td>Автономна Республіка Крим</td>\n",
       "      <td>2012</td>\n",
       "      <td>народився 1 сiчня 1948 року в селі Бродецьке К...</td>\n",
       "      <td>самовисування</td>\n",
       "      <td>2012-08-03</td>\n",
       "      <td>M</td>\n",
       "      <td>...</td>\n",
       "      <td>False</td>\n",
       "      <td>40.4</td>\n",
       "      <td>1.1</td>\n",
       "      <td>blue</td>\n",
       "      <td>True</td>\n",
       "      <td>True</td>\n",
       "      <td>0</td>\n",
       "      <td>no</td>\n",
       "      <td>grey</td>\n",
       "      <td>NaN</td>\n",
       "    </tr>\n",
       "    <tr>\n",
       "      <th>2</th>\n",
       "      <td>Соломахін Олег Андрійович</td>\n",
       "      <td>10.58</td>\n",
       "      <td>7630.0</td>\n",
       "      <td>1</td>\n",
       "      <td>Автономна Республіка Крим</td>\n",
       "      <td>2012</td>\n",
       "      <td>народився 24 червня 1960 року в місті Херсоні,...</td>\n",
       "      <td>комуністична партія україни</td>\n",
       "      <td>2012-08-03</td>\n",
       "      <td>M</td>\n",
       "      <td>...</td>\n",
       "      <td>False</td>\n",
       "      <td>40.4</td>\n",
       "      <td>1.1</td>\n",
       "      <td>blue</td>\n",
       "      <td>False</td>\n",
       "      <td>False</td>\n",
       "      <td>0</td>\n",
       "      <td>yes</td>\n",
       "      <td>blue</td>\n",
       "      <td>12.9</td>\n",
       "    </tr>\n",
       "    <tr>\n",
       "      <th>3</th>\n",
       "      <td>Аксенов Сергій Валерійович</td>\n",
       "      <td>9.12</td>\n",
       "      <td>6575.0</td>\n",
       "      <td>1</td>\n",
       "      <td>Автономна Республіка Крим</td>\n",
       "      <td>2012</td>\n",
       "      <td>народився 26 листопада 1972 року в місті Бєльц...</td>\n",
       "      <td>політична партія руська єдність</td>\n",
       "      <td>2012-08-15</td>\n",
       "      <td>M</td>\n",
       "      <td>...</td>\n",
       "      <td>False</td>\n",
       "      <td>40.4</td>\n",
       "      <td>1.1</td>\n",
       "      <td>blue</td>\n",
       "      <td>False</td>\n",
       "      <td>False</td>\n",
       "      <td>0</td>\n",
       "      <td>no</td>\n",
       "      <td>blue</td>\n",
       "      <td>NaN</td>\n",
       "    </tr>\n",
       "    <tr>\n",
       "      <th>4</th>\n",
       "      <td>Доценко Сергій Миколайович</td>\n",
       "      <td>6.71</td>\n",
       "      <td>4838.0</td>\n",
       "      <td>1</td>\n",
       "      <td>Автономна Республіка Крим</td>\n",
       "      <td>2012</td>\n",
       "      <td>народився 27 липня 1979 року в селі Ромашкине ...</td>\n",
       "      <td>політична партія удар український демократични...</td>\n",
       "      <td>2012-08-09</td>\n",
       "      <td>M</td>\n",
       "      <td>...</td>\n",
       "      <td>False</td>\n",
       "      <td>40.4</td>\n",
       "      <td>1.1</td>\n",
       "      <td>blue</td>\n",
       "      <td>False</td>\n",
       "      <td>False</td>\n",
       "      <td>0</td>\n",
       "      <td>no</td>\n",
       "      <td>orange</td>\n",
       "      <td>19.5</td>\n",
       "    </tr>\n",
       "    <tr>\n",
       "      <th>5</th>\n",
       "      <td>Лобачев Сергій Миколайович</td>\n",
       "      <td>6.22</td>\n",
       "      <td>4485.0</td>\n",
       "      <td>1</td>\n",
       "      <td>Автономна Республіка Крим</td>\n",
       "      <td>2012</td>\n",
       "      <td>народився 10 червня 1944 року в селі Абезь Інт...</td>\n",
       "      <td>політична партія всеукраїнське обєднання батьк...</td>\n",
       "      <td>2012-08-08</td>\n",
       "      <td>M</td>\n",
       "      <td>...</td>\n",
       "      <td>False</td>\n",
       "      <td>40.4</td>\n",
       "      <td>1.1</td>\n",
       "      <td>blue</td>\n",
       "      <td>False</td>\n",
       "      <td>False</td>\n",
       "      <td>0</td>\n",
       "      <td>no</td>\n",
       "      <td>orange</td>\n",
       "      <td>22.1</td>\n",
       "    </tr>\n",
       "    <tr>\n",
       "      <th>6</th>\n",
       "      <td>Семенова Лариса Іванівна</td>\n",
       "      <td>2.28</td>\n",
       "      <td>1646.0</td>\n",
       "      <td>1</td>\n",
       "      <td>Автономна Республіка Крим</td>\n",
       "      <td>2012</td>\n",
       "      <td>народилася 12 лютого 1954 року в місті Євпатор...</td>\n",
       "      <td>партія зелених україни</td>\n",
       "      <td>2012-08-13</td>\n",
       "      <td>F</td>\n",
       "      <td>...</td>\n",
       "      <td>False</td>\n",
       "      <td>40.4</td>\n",
       "      <td>1.1</td>\n",
       "      <td>blue</td>\n",
       "      <td>False</td>\n",
       "      <td>False</td>\n",
       "      <td>0</td>\n",
       "      <td>no</td>\n",
       "      <td>grey</td>\n",
       "      <td>NaN</td>\n",
       "    </tr>\n",
       "    <tr>\n",
       "      <th>7</th>\n",
       "      <td>Толкачов Володимир Володимирович</td>\n",
       "      <td>1.55</td>\n",
       "      <td>1119.0</td>\n",
       "      <td>1</td>\n",
       "      <td>Автономна Республіка Крим</td>\n",
       "      <td>2012</td>\n",
       "      <td>народився 15 листопада 1964 року в місті Сімфе...</td>\n",
       "      <td>партія наталії королевської україна  вперед</td>\n",
       "      <td>2012-08-11</td>\n",
       "      <td>M</td>\n",
       "      <td>...</td>\n",
       "      <td>False</td>\n",
       "      <td>40.4</td>\n",
       "      <td>1.1</td>\n",
       "      <td>blue</td>\n",
       "      <td>False</td>\n",
       "      <td>False</td>\n",
       "      <td>0</td>\n",
       "      <td>no</td>\n",
       "      <td>blue</td>\n",
       "      <td>NaN</td>\n",
       "    </tr>\n",
       "    <tr>\n",
       "      <th>8</th>\n",
       "      <td>Пузако Володимир Іванович</td>\n",
       "      <td>1.17</td>\n",
       "      <td>847.0</td>\n",
       "      <td>1</td>\n",
       "      <td>Автономна Республіка Крим</td>\n",
       "      <td>2012</td>\n",
       "      <td>народився 16 липня 1951 року в місті Біла Церк...</td>\n",
       "      <td>українська партія зелена планета</td>\n",
       "      <td>2012-08-14</td>\n",
       "      <td>M</td>\n",
       "      <td>...</td>\n",
       "      <td>False</td>\n",
       "      <td>40.4</td>\n",
       "      <td>1.1</td>\n",
       "      <td>blue</td>\n",
       "      <td>False</td>\n",
       "      <td>False</td>\n",
       "      <td>0</td>\n",
       "      <td>no</td>\n",
       "      <td>grey</td>\n",
       "      <td>NaN</td>\n",
       "    </tr>\n",
       "    <tr>\n",
       "      <th>9</th>\n",
       "      <td>Волков Олександр Петрович</td>\n",
       "      <td>0.88</td>\n",
       "      <td>635.0</td>\n",
       "      <td>1</td>\n",
       "      <td>Автономна Республіка Крим</td>\n",
       "      <td>2012</td>\n",
       "      <td>народився 6 вересня 1946 року в радгоспі Перво...</td>\n",
       "      <td>самовисування</td>\n",
       "      <td>2012-08-10</td>\n",
       "      <td>M</td>\n",
       "      <td>...</td>\n",
       "      <td>False</td>\n",
       "      <td>40.4</td>\n",
       "      <td>1.1</td>\n",
       "      <td>blue</td>\n",
       "      <td>False</td>\n",
       "      <td>False</td>\n",
       "      <td>0</td>\n",
       "      <td>no</td>\n",
       "      <td>grey</td>\n",
       "      <td>NaN</td>\n",
       "    </tr>\n",
       "    <tr>\n",
       "      <th>10</th>\n",
       "      <td>Вольнюк Олександр Григорович</td>\n",
       "      <td>0.76</td>\n",
       "      <td>551.0</td>\n",
       "      <td>1</td>\n",
       "      <td>Автономна Республіка Крим</td>\n",
       "      <td>2012</td>\n",
       "      <td>народився 19 сiчня 1977 року в місті Сімферопо...</td>\n",
       "      <td>політична партія зелені</td>\n",
       "      <td>2012-08-08</td>\n",
       "      <td>M</td>\n",
       "      <td>...</td>\n",
       "      <td>False</td>\n",
       "      <td>40.4</td>\n",
       "      <td>1.1</td>\n",
       "      <td>blue</td>\n",
       "      <td>False</td>\n",
       "      <td>False</td>\n",
       "      <td>0</td>\n",
       "      <td>no</td>\n",
       "      <td>grey</td>\n",
       "      <td>NaN</td>\n",
       "    </tr>\n",
       "    <tr>\n",
       "      <th>11</th>\n",
       "      <td>Веселовський Сергій Михайлович</td>\n",
       "      <td>0.69</td>\n",
       "      <td>501.0</td>\n",
       "      <td>1</td>\n",
       "      <td>Автономна Республіка Крим</td>\n",
       "      <td>2012</td>\n",
       "      <td>народився 31 сiчня 1967 року в селищі Красногв...</td>\n",
       "      <td>самовисування</td>\n",
       "      <td>2012-08-13</td>\n",
       "      <td>M</td>\n",
       "      <td>...</td>\n",
       "      <td>False</td>\n",
       "      <td>40.4</td>\n",
       "      <td>1.1</td>\n",
       "      <td>blue</td>\n",
       "      <td>False</td>\n",
       "      <td>False</td>\n",
       "      <td>0</td>\n",
       "      <td>no</td>\n",
       "      <td>grey</td>\n",
       "      <td>NaN</td>\n",
       "    </tr>\n",
       "    <tr>\n",
       "      <th>12</th>\n",
       "      <td>Литвинов Анатолій Анатолійович</td>\n",
       "      <td>0.68</td>\n",
       "      <td>492.0</td>\n",
       "      <td>1</td>\n",
       "      <td>Автономна Республіка Крим</td>\n",
       "      <td>2012</td>\n",
       "      <td>народився 28 березня 1959 року в місті Запоріж...</td>\n",
       "      <td>партія обєднані ліві і селяни</td>\n",
       "      <td>2012-08-13</td>\n",
       "      <td>M</td>\n",
       "      <td>...</td>\n",
       "      <td>False</td>\n",
       "      <td>40.4</td>\n",
       "      <td>1.1</td>\n",
       "      <td>blue</td>\n",
       "      <td>False</td>\n",
       "      <td>False</td>\n",
       "      <td>0</td>\n",
       "      <td>no</td>\n",
       "      <td>grey</td>\n",
       "      <td>NaN</td>\n",
       "    </tr>\n",
       "    <tr>\n",
       "      <th>13</th>\n",
       "      <td>Чолак Віктор Петрович</td>\n",
       "      <td>0.61</td>\n",
       "      <td>445.0</td>\n",
       "      <td>1</td>\n",
       "      <td>Автономна Республіка Крим</td>\n",
       "      <td>2012</td>\n",
       "      <td>народився 27 серпня 1991 року в селі Дмитрівка...</td>\n",
       "      <td>самовисування</td>\n",
       "      <td>2012-08-14</td>\n",
       "      <td>M</td>\n",
       "      <td>...</td>\n",
       "      <td>False</td>\n",
       "      <td>40.4</td>\n",
       "      <td>1.1</td>\n",
       "      <td>blue</td>\n",
       "      <td>False</td>\n",
       "      <td>False</td>\n",
       "      <td>0</td>\n",
       "      <td>no</td>\n",
       "      <td>grey</td>\n",
       "      <td>NaN</td>\n",
       "    </tr>\n",
       "    <tr>\n",
       "      <th>14</th>\n",
       "      <td>Фесенко Сергій Вікторович</td>\n",
       "      <td>0.49</td>\n",
       "      <td>357.0</td>\n",
       "      <td>1</td>\n",
       "      <td>Автономна Республіка Крим</td>\n",
       "      <td>2012</td>\n",
       "      <td>народився 6 лютого 1980 року в місті Сімферопо...</td>\n",
       "      <td>українська морська партія</td>\n",
       "      <td>2012-08-11</td>\n",
       "      <td>M</td>\n",
       "      <td>...</td>\n",
       "      <td>False</td>\n",
       "      <td>40.4</td>\n",
       "      <td>1.1</td>\n",
       "      <td>blue</td>\n",
       "      <td>False</td>\n",
       "      <td>False</td>\n",
       "      <td>0</td>\n",
       "      <td>no</td>\n",
       "      <td>grey</td>\n",
       "      <td>NaN</td>\n",
       "    </tr>\n",
       "    <tr>\n",
       "      <th>15</th>\n",
       "      <td>Бондаренко Володимир Анатолійович</td>\n",
       "      <td>0.43</td>\n",
       "      <td>310.0</td>\n",
       "      <td>1</td>\n",
       "      <td>Автономна Республіка Крим</td>\n",
       "      <td>2012</td>\n",
       "      <td>народився 4 грудня 1966 року в селі Найденівка...</td>\n",
       "      <td>політична партія держава</td>\n",
       "      <td>2012-08-07</td>\n",
       "      <td>M</td>\n",
       "      <td>...</td>\n",
       "      <td>False</td>\n",
       "      <td>40.4</td>\n",
       "      <td>1.1</td>\n",
       "      <td>blue</td>\n",
       "      <td>False</td>\n",
       "      <td>False</td>\n",
       "      <td>0</td>\n",
       "      <td>no</td>\n",
       "      <td>grey</td>\n",
       "      <td>NaN</td>\n",
       "    </tr>\n",
       "    <tr>\n",
       "      <th>16</th>\n",
       "      <td>Жудєєв Дмитро Олександрович</td>\n",
       "      <td>0.39</td>\n",
       "      <td>286.0</td>\n",
       "      <td>1</td>\n",
       "      <td>Автономна Республіка Крим</td>\n",
       "      <td>2012</td>\n",
       "      <td>народився 1 грудня 1982 року в місті Сімферопо...</td>\n",
       "      <td>соціальноекологічна партія союз чорнобиль україна</td>\n",
       "      <td>2012-08-13</td>\n",
       "      <td>M</td>\n",
       "      <td>...</td>\n",
       "      <td>False</td>\n",
       "      <td>40.4</td>\n",
       "      <td>1.1</td>\n",
       "      <td>blue</td>\n",
       "      <td>False</td>\n",
       "      <td>False</td>\n",
       "      <td>0</td>\n",
       "      <td>no</td>\n",
       "      <td>grey</td>\n",
       "      <td>NaN</td>\n",
       "    </tr>\n",
       "    <tr>\n",
       "      <th>17</th>\n",
       "      <td>Басараб Віталій Геннадійович</td>\n",
       "      <td>0.29</td>\n",
       "      <td>212.0</td>\n",
       "      <td>1</td>\n",
       "      <td>Автономна Республіка Крим</td>\n",
       "      <td>2012</td>\n",
       "      <td>народився 21 червня 1961 року в місті Сімфероп...</td>\n",
       "      <td>політична партія нова політика</td>\n",
       "      <td>2012-08-13</td>\n",
       "      <td>M</td>\n",
       "      <td>...</td>\n",
       "      <td>False</td>\n",
       "      <td>40.4</td>\n",
       "      <td>1.1</td>\n",
       "      <td>blue</td>\n",
       "      <td>False</td>\n",
       "      <td>False</td>\n",
       "      <td>0</td>\n",
       "      <td>no</td>\n",
       "      <td>grey</td>\n",
       "      <td>NaN</td>\n",
       "    </tr>\n",
       "    <tr>\n",
       "      <th>18</th>\n",
       "      <td>Островський Петро Сергович</td>\n",
       "      <td>0.17</td>\n",
       "      <td>128.0</td>\n",
       "      <td>1</td>\n",
       "      <td>Автономна Республіка Крим</td>\n",
       "      <td>2012</td>\n",
       "      <td>народився 25 квiтня 1980 року в місті Сімфероп...</td>\n",
       "      <td>партія віче</td>\n",
       "      <td>2012-08-07</td>\n",
       "      <td>M</td>\n",
       "      <td>...</td>\n",
       "      <td>False</td>\n",
       "      <td>40.4</td>\n",
       "      <td>1.1</td>\n",
       "      <td>blue</td>\n",
       "      <td>False</td>\n",
       "      <td>False</td>\n",
       "      <td>0</td>\n",
       "      <td>no</td>\n",
       "      <td>grey</td>\n",
       "      <td>NaN</td>\n",
       "    </tr>\n",
       "    <tr>\n",
       "      <th>19</th>\n",
       "      <td>Лазебніков Сергій Юрійович</td>\n",
       "      <td>0.15</td>\n",
       "      <td>115.0</td>\n",
       "      <td>1</td>\n",
       "      <td>Автономна Республіка Крим</td>\n",
       "      <td>2012</td>\n",
       "      <td>народився 22 квiтня 1984 року в селі П’ятихатк...</td>\n",
       "      <td>політична партія народна ініціатива</td>\n",
       "      <td>2012-08-06</td>\n",
       "      <td>M</td>\n",
       "      <td>...</td>\n",
       "      <td>False</td>\n",
       "      <td>40.4</td>\n",
       "      <td>1.1</td>\n",
       "      <td>blue</td>\n",
       "      <td>False</td>\n",
       "      <td>False</td>\n",
       "      <td>0</td>\n",
       "      <td>no</td>\n",
       "      <td>grey</td>\n",
       "      <td>NaN</td>\n",
       "    </tr>\n",
       "    <tr>\n",
       "      <th>20</th>\n",
       "      <td>Миримський Лев Юлійович</td>\n",
       "      <td>36.45</td>\n",
       "      <td>23755.0</td>\n",
       "      <td>2</td>\n",
       "      <td>Автономна Республіка Крим</td>\n",
       "      <td>2012</td>\n",
       "      <td>народився 2 квiтня 1960 року в місті Сімферопо...</td>\n",
       "      <td>партія союз</td>\n",
       "      <td>2012-08-10</td>\n",
       "      <td>M</td>\n",
       "      <td>...</td>\n",
       "      <td>True</td>\n",
       "      <td>40.4</td>\n",
       "      <td>1.1</td>\n",
       "      <td>blue</td>\n",
       "      <td>False</td>\n",
       "      <td>True</td>\n",
       "      <td>0</td>\n",
       "      <td>no</td>\n",
       "      <td>blue</td>\n",
       "      <td>NaN</td>\n",
       "    </tr>\n",
       "    <tr>\n",
       "      <th>21</th>\n",
       "      <td>Кіскін Степан Степанович</td>\n",
       "      <td>27.13</td>\n",
       "      <td>17683.0</td>\n",
       "      <td>2</td>\n",
       "      <td>Автономна Республіка Крим</td>\n",
       "      <td>2012</td>\n",
       "      <td>народився 8 квiтня 1962 року в селищі Первомай...</td>\n",
       "      <td>комуністична партія україни</td>\n",
       "      <td>2012-08-03</td>\n",
       "      <td>M</td>\n",
       "      <td>...</td>\n",
       "      <td>False</td>\n",
       "      <td>40.4</td>\n",
       "      <td>1.1</td>\n",
       "      <td>blue</td>\n",
       "      <td>False</td>\n",
       "      <td>False</td>\n",
       "      <td>0</td>\n",
       "      <td>yes</td>\n",
       "      <td>blue</td>\n",
       "      <td>12.9</td>\n",
       "    </tr>\n",
       "    <tr>\n",
       "      <th>22</th>\n",
       "      <td>Сидорова Абіба Іскандарівна</td>\n",
       "      <td>8.82</td>\n",
       "      <td>5753.0</td>\n",
       "      <td>2</td>\n",
       "      <td>Автономна Республіка Крим</td>\n",
       "      <td>2012</td>\n",
       "      <td>народилася 13 травня 1954 року в селі Куйбишев...</td>\n",
       "      <td>політична партія всеукраїнське обєднання батьк...</td>\n",
       "      <td>2012-08-08</td>\n",
       "      <td>F</td>\n",
       "      <td>...</td>\n",
       "      <td>False</td>\n",
       "      <td>40.4</td>\n",
       "      <td>1.1</td>\n",
       "      <td>blue</td>\n",
       "      <td>False</td>\n",
       "      <td>False</td>\n",
       "      <td>0</td>\n",
       "      <td>no</td>\n",
       "      <td>orange</td>\n",
       "      <td>22.1</td>\n",
       "    </tr>\n",
       "    <tr>\n",
       "      <th>23</th>\n",
       "      <td>Калюбін Юрій Олексійович</td>\n",
       "      <td>6.11</td>\n",
       "      <td>3988.0</td>\n",
       "      <td>2</td>\n",
       "      <td>Автономна Республіка Крим</td>\n",
       "      <td>2012</td>\n",
       "      <td>народився 22 лютого 1986 року в місті Сімфероп...</td>\n",
       "      <td>політична партія удар український демократични...</td>\n",
       "      <td>2012-08-09</td>\n",
       "      <td>M</td>\n",
       "      <td>...</td>\n",
       "      <td>False</td>\n",
       "      <td>40.4</td>\n",
       "      <td>1.1</td>\n",
       "      <td>blue</td>\n",
       "      <td>False</td>\n",
       "      <td>False</td>\n",
       "      <td>0</td>\n",
       "      <td>no</td>\n",
       "      <td>orange</td>\n",
       "      <td>19.5</td>\n",
       "    </tr>\n",
       "    <tr>\n",
       "      <th>24</th>\n",
       "      <td>Спірідонов Олександр Юрійович</td>\n",
       "      <td>4.12</td>\n",
       "      <td>2686.0</td>\n",
       "      <td>2</td>\n",
       "      <td>Автономна Республіка Крим</td>\n",
       "      <td>2012</td>\n",
       "      <td>народився 5 травня 1985 року в селищі Нижньогі...</td>\n",
       "      <td>політична партія руська єдність</td>\n",
       "      <td>2012-08-15</td>\n",
       "      <td>M</td>\n",
       "      <td>...</td>\n",
       "      <td>False</td>\n",
       "      <td>40.4</td>\n",
       "      <td>1.1</td>\n",
       "      <td>blue</td>\n",
       "      <td>False</td>\n",
       "      <td>False</td>\n",
       "      <td>0</td>\n",
       "      <td>no</td>\n",
       "      <td>blue</td>\n",
       "      <td>NaN</td>\n",
       "    </tr>\n",
       "    <tr>\n",
       "      <th>25</th>\n",
       "      <td>Аксьонова Надія Вікторівна</td>\n",
       "      <td>3.12</td>\n",
       "      <td>2034.0</td>\n",
       "      <td>2</td>\n",
       "      <td>Автономна Республіка Крим</td>\n",
       "      <td>2012</td>\n",
       "      <td>народилася 12 серпня 1977 року в місті Сімферо...</td>\n",
       "      <td>українська партія зелена планета</td>\n",
       "      <td>2012-08-14</td>\n",
       "      <td>F</td>\n",
       "      <td>...</td>\n",
       "      <td>False</td>\n",
       "      <td>40.4</td>\n",
       "      <td>1.1</td>\n",
       "      <td>blue</td>\n",
       "      <td>False</td>\n",
       "      <td>False</td>\n",
       "      <td>0</td>\n",
       "      <td>no</td>\n",
       "      <td>grey</td>\n",
       "      <td>NaN</td>\n",
       "    </tr>\n",
       "    <tr>\n",
       "      <th>26</th>\n",
       "      <td>Лось Анатолій Миколайович</td>\n",
       "      <td>2.10</td>\n",
       "      <td>1373.0</td>\n",
       "      <td>2</td>\n",
       "      <td>Автономна Республіка Крим</td>\n",
       "      <td>2012</td>\n",
       "      <td>народився 19 травня 1940 року в станиці Тверсь...</td>\n",
       "      <td>політична партія україни русь єдина</td>\n",
       "      <td>2012-08-10</td>\n",
       "      <td>M</td>\n",
       "      <td>...</td>\n",
       "      <td>False</td>\n",
       "      <td>40.4</td>\n",
       "      <td>1.1</td>\n",
       "      <td>blue</td>\n",
       "      <td>False</td>\n",
       "      <td>False</td>\n",
       "      <td>0</td>\n",
       "      <td>no</td>\n",
       "      <td>blue</td>\n",
       "      <td>NaN</td>\n",
       "    </tr>\n",
       "    <tr>\n",
       "      <th>27</th>\n",
       "      <td>Андрєєва Яна Сергіївна</td>\n",
       "      <td>1.45</td>\n",
       "      <td>951.0</td>\n",
       "      <td>2</td>\n",
       "      <td>Автономна Республіка Крим</td>\n",
       "      <td>2012</td>\n",
       "      <td>народилася 10 грудня 1980 року в смт Овідіопол...</td>\n",
       "      <td>партія зелених україни</td>\n",
       "      <td>2012-08-13</td>\n",
       "      <td>F</td>\n",
       "      <td>...</td>\n",
       "      <td>False</td>\n",
       "      <td>40.4</td>\n",
       "      <td>1.1</td>\n",
       "      <td>blue</td>\n",
       "      <td>False</td>\n",
       "      <td>False</td>\n",
       "      <td>0</td>\n",
       "      <td>no</td>\n",
       "      <td>grey</td>\n",
       "      <td>NaN</td>\n",
       "    </tr>\n",
       "    <tr>\n",
       "      <th>28</th>\n",
       "      <td>Петров Анатолій Іванович</td>\n",
       "      <td>1.40</td>\n",
       "      <td>914.0</td>\n",
       "      <td>2</td>\n",
       "      <td>Автономна Республіка Крим</td>\n",
       "      <td>2012</td>\n",
       "      <td>народився 6 листопада 1960 року в селі Лісносі...</td>\n",
       "      <td>самовисування</td>\n",
       "      <td>2012-08-09</td>\n",
       "      <td>M</td>\n",
       "      <td>...</td>\n",
       "      <td>False</td>\n",
       "      <td>40.4</td>\n",
       "      <td>1.1</td>\n",
       "      <td>blue</td>\n",
       "      <td>False</td>\n",
       "      <td>False</td>\n",
       "      <td>0</td>\n",
       "      <td>no</td>\n",
       "      <td>grey</td>\n",
       "      <td>NaN</td>\n",
       "    </tr>\n",
       "    <tr>\n",
       "      <th>29</th>\n",
       "      <td>Януцик Олексій Юрійович</td>\n",
       "      <td>1.36</td>\n",
       "      <td>891.0</td>\n",
       "      <td>2</td>\n",
       "      <td>Автономна Республіка Крим</td>\n",
       "      <td>2012</td>\n",
       "      <td>народився 15 серпня 1978 року в місті Сімфероп...</td>\n",
       "      <td>самовисування</td>\n",
       "      <td>2012-08-15</td>\n",
       "      <td>M</td>\n",
       "      <td>...</td>\n",
       "      <td>False</td>\n",
       "      <td>40.4</td>\n",
       "      <td>1.1</td>\n",
       "      <td>blue</td>\n",
       "      <td>False</td>\n",
       "      <td>False</td>\n",
       "      <td>0</td>\n",
       "      <td>no</td>\n",
       "      <td>grey</td>\n",
       "      <td>NaN</td>\n",
       "    </tr>\n",
       "    <tr>\n",
       "      <th>...</th>\n",
       "      <td>...</td>\n",
       "      <td>...</td>\n",
       "      <td>...</td>\n",
       "      <td>...</td>\n",
       "      <td>...</td>\n",
       "      <td>...</td>\n",
       "      <td>...</td>\n",
       "      <td>...</td>\n",
       "      <td>...</td>\n",
       "      <td>...</td>\n",
       "      <td>...</td>\n",
       "      <td>...</td>\n",
       "      <td>...</td>\n",
       "      <td>...</td>\n",
       "      <td>...</td>\n",
       "      <td>...</td>\n",
       "      <td>...</td>\n",
       "      <td>...</td>\n",
       "      <td>...</td>\n",
       "      <td>...</td>\n",
       "      <td>...</td>\n",
       "    </tr>\n",
       "    <tr>\n",
       "      <th>8999</th>\n",
       "      <td>Грищук Роман Павлович</td>\n",
       "      <td>NaN</td>\n",
       "      <td>NaN</td>\n",
       "      <td>222</td>\n",
       "      <td>м.Київ</td>\n",
       "      <td>2019</td>\n",
       "      <td>народився 27 серпня 1989 року в місті Києві, г...</td>\n",
       "      <td>політична партія слуга народу</td>\n",
       "      <td>2019-06-25</td>\n",
       "      <td>M</td>\n",
       "      <td>...</td>\n",
       "      <td>NaN</td>\n",
       "      <td>NaN</td>\n",
       "      <td>NaN</td>\n",
       "      <td>NaN</td>\n",
       "      <td>False</td>\n",
       "      <td>False</td>\n",
       "      <td>0</td>\n",
       "      <td>yes</td>\n",
       "      <td>orange</td>\n",
       "      <td>45.5</td>\n",
       "    </tr>\n",
       "    <tr>\n",
       "      <th>9000</th>\n",
       "      <td>Дорофеєв Віктор Вікторович</td>\n",
       "      <td>NaN</td>\n",
       "      <td>NaN</td>\n",
       "      <td>222</td>\n",
       "      <td>м.Київ</td>\n",
       "      <td>2019</td>\n",
       "      <td>народився 12 березня 1984 року в місті Києві, ...</td>\n",
       "      <td>самовисування</td>\n",
       "      <td>2019-06-25</td>\n",
       "      <td>M</td>\n",
       "      <td>...</td>\n",
       "      <td>NaN</td>\n",
       "      <td>NaN</td>\n",
       "      <td>NaN</td>\n",
       "      <td>NaN</td>\n",
       "      <td>False</td>\n",
       "      <td>False</td>\n",
       "      <td>0</td>\n",
       "      <td>no</td>\n",
       "      <td>grey</td>\n",
       "      <td>NaN</td>\n",
       "    </tr>\n",
       "    <tr>\n",
       "      <th>9001</th>\n",
       "      <td>Клейменов Аким Ігорович</td>\n",
       "      <td>NaN</td>\n",
       "      <td>NaN</td>\n",
       "      <td>222</td>\n",
       "      <td>м.Київ</td>\n",
       "      <td>2019</td>\n",
       "      <td>народився 24 квiтня 1981 року в місті Києві, г...</td>\n",
       "      <td>політична партія сила і честь</td>\n",
       "      <td>2019-06-25</td>\n",
       "      <td>M</td>\n",
       "      <td>...</td>\n",
       "      <td>NaN</td>\n",
       "      <td>NaN</td>\n",
       "      <td>NaN</td>\n",
       "      <td>NaN</td>\n",
       "      <td>False</td>\n",
       "      <td>False</td>\n",
       "      <td>0</td>\n",
       "      <td>no</td>\n",
       "      <td>orange</td>\n",
       "      <td>3.9</td>\n",
       "    </tr>\n",
       "    <tr>\n",
       "      <th>9002</th>\n",
       "      <td>Лабоженко Олександр Дмитрович</td>\n",
       "      <td>NaN</td>\n",
       "      <td>NaN</td>\n",
       "      <td>222</td>\n",
       "      <td>м.Київ</td>\n",
       "      <td>2019</td>\n",
       "      <td>народився 2 березня 1996 року в місті Харкові,...</td>\n",
       "      <td>політична партія опозиційний блок</td>\n",
       "      <td>2019-06-25</td>\n",
       "      <td>M</td>\n",
       "      <td>...</td>\n",
       "      <td>NaN</td>\n",
       "      <td>NaN</td>\n",
       "      <td>NaN</td>\n",
       "      <td>NaN</td>\n",
       "      <td>False</td>\n",
       "      <td>False</td>\n",
       "      <td>0</td>\n",
       "      <td>no</td>\n",
       "      <td>blue</td>\n",
       "      <td>NaN</td>\n",
       "    </tr>\n",
       "    <tr>\n",
       "      <th>9003</th>\n",
       "      <td>Лубкін Даніїл Дмитрович</td>\n",
       "      <td>NaN</td>\n",
       "      <td>NaN</td>\n",
       "      <td>222</td>\n",
       "      <td>м.Київ</td>\n",
       "      <td>2019</td>\n",
       "      <td>народився 8 серпня 1997 року в місті Києві, гр...</td>\n",
       "      <td>політична партія розвиток</td>\n",
       "      <td>2019-06-24</td>\n",
       "      <td>M</td>\n",
       "      <td>...</td>\n",
       "      <td>NaN</td>\n",
       "      <td>NaN</td>\n",
       "      <td>NaN</td>\n",
       "      <td>NaN</td>\n",
       "      <td>False</td>\n",
       "      <td>False</td>\n",
       "      <td>0</td>\n",
       "      <td>no</td>\n",
       "      <td>grey</td>\n",
       "      <td>NaN</td>\n",
       "    </tr>\n",
       "    <tr>\n",
       "      <th>9004</th>\n",
       "      <td>Луцький Максим Георгійович</td>\n",
       "      <td>NaN</td>\n",
       "      <td>NaN</td>\n",
       "      <td>222</td>\n",
       "      <td>м.Київ</td>\n",
       "      <td>2019</td>\n",
       "      <td>народився 4 червня 1976 року в місті Києві, гр...</td>\n",
       "      <td>політична партія опозиційна платформа  за життя</td>\n",
       "      <td>2019-06-24</td>\n",
       "      <td>M</td>\n",
       "      <td>...</td>\n",
       "      <td>NaN</td>\n",
       "      <td>NaN</td>\n",
       "      <td>NaN</td>\n",
       "      <td>NaN</td>\n",
       "      <td>False</td>\n",
       "      <td>True</td>\n",
       "      <td>0</td>\n",
       "      <td>no</td>\n",
       "      <td>blue</td>\n",
       "      <td>12.0</td>\n",
       "    </tr>\n",
       "    <tr>\n",
       "      <th>9005</th>\n",
       "      <td>Назаренко Володимир Едуардович</td>\n",
       "      <td>NaN</td>\n",
       "      <td>NaN</td>\n",
       "      <td>222</td>\n",
       "      <td>м.Київ</td>\n",
       "      <td>2019</td>\n",
       "      <td>народився 14 липня 1991 року в місті Києві, гр...</td>\n",
       "      <td>політична партія всеукраїнське обєднання свобода</td>\n",
       "      <td>2019-06-18</td>\n",
       "      <td>M</td>\n",
       "      <td>...</td>\n",
       "      <td>NaN</td>\n",
       "      <td>NaN</td>\n",
       "      <td>NaN</td>\n",
       "      <td>NaN</td>\n",
       "      <td>False</td>\n",
       "      <td>False</td>\n",
       "      <td>0</td>\n",
       "      <td>no</td>\n",
       "      <td>orange</td>\n",
       "      <td>NaN</td>\n",
       "    </tr>\n",
       "    <tr>\n",
       "      <th>9006</th>\n",
       "      <td>Руденко Віталій Володимирович</td>\n",
       "      <td>NaN</td>\n",
       "      <td>NaN</td>\n",
       "      <td>222</td>\n",
       "      <td>м.Київ</td>\n",
       "      <td>2019</td>\n",
       "      <td>народився 5 червня 1964 року в місті Києві, гр...</td>\n",
       "      <td>самовисування</td>\n",
       "      <td>2019-06-25</td>\n",
       "      <td>M</td>\n",
       "      <td>...</td>\n",
       "      <td>NaN</td>\n",
       "      <td>NaN</td>\n",
       "      <td>NaN</td>\n",
       "      <td>NaN</td>\n",
       "      <td>False</td>\n",
       "      <td>False</td>\n",
       "      <td>0</td>\n",
       "      <td>no</td>\n",
       "      <td>grey</td>\n",
       "      <td>NaN</td>\n",
       "    </tr>\n",
       "    <tr>\n",
       "      <th>9007</th>\n",
       "      <td>Убірія Вахтангі Шалвович</td>\n",
       "      <td>NaN</td>\n",
       "      <td>NaN</td>\n",
       "      <td>222</td>\n",
       "      <td>м.Київ</td>\n",
       "      <td>2019</td>\n",
       "      <td>народився 22 серпня 1950 року в місті Очамчира...</td>\n",
       "      <td>самовисування</td>\n",
       "      <td>2019-06-07</td>\n",
       "      <td>M</td>\n",
       "      <td>...</td>\n",
       "      <td>NaN</td>\n",
       "      <td>NaN</td>\n",
       "      <td>NaN</td>\n",
       "      <td>NaN</td>\n",
       "      <td>False</td>\n",
       "      <td>False</td>\n",
       "      <td>0</td>\n",
       "      <td>no</td>\n",
       "      <td>grey</td>\n",
       "      <td>NaN</td>\n",
       "    </tr>\n",
       "    <tr>\n",
       "      <th>9008</th>\n",
       "      <td>Шкуро Максим Юрійович</td>\n",
       "      <td>NaN</td>\n",
       "      <td>NaN</td>\n",
       "      <td>222</td>\n",
       "      <td>м.Київ</td>\n",
       "      <td>2019</td>\n",
       "      <td>народився 6 жовтня 1978 року в місті Києві, гр...</td>\n",
       "      <td>самовисування</td>\n",
       "      <td>2019-06-23</td>\n",
       "      <td>M</td>\n",
       "      <td>...</td>\n",
       "      <td>NaN</td>\n",
       "      <td>NaN</td>\n",
       "      <td>NaN</td>\n",
       "      <td>NaN</td>\n",
       "      <td>False</td>\n",
       "      <td>False</td>\n",
       "      <td>0</td>\n",
       "      <td>no</td>\n",
       "      <td>grey</td>\n",
       "      <td>NaN</td>\n",
       "    </tr>\n",
       "    <tr>\n",
       "      <th>9009</th>\n",
       "      <td>Аніськович Павло Юрійович</td>\n",
       "      <td>NaN</td>\n",
       "      <td>NaN</td>\n",
       "      <td>223</td>\n",
       "      <td>м.Київ</td>\n",
       "      <td>2019</td>\n",
       "      <td>народився 27 листопада 1964 року в місті Києві...</td>\n",
       "      <td>політична партія громадянська позиція</td>\n",
       "      <td>2019-06-15</td>\n",
       "      <td>M</td>\n",
       "      <td>...</td>\n",
       "      <td>NaN</td>\n",
       "      <td>NaN</td>\n",
       "      <td>NaN</td>\n",
       "      <td>NaN</td>\n",
       "      <td>False</td>\n",
       "      <td>False</td>\n",
       "      <td>0</td>\n",
       "      <td>no</td>\n",
       "      <td>orange</td>\n",
       "      <td>NaN</td>\n",
       "    </tr>\n",
       "    <tr>\n",
       "      <th>9010</th>\n",
       "      <td>Бєлов Ігор Ігорович</td>\n",
       "      <td>NaN</td>\n",
       "      <td>NaN</td>\n",
       "      <td>223</td>\n",
       "      <td>м.Київ</td>\n",
       "      <td>2019</td>\n",
       "      <td>народився 8 вересня 1995 року в місті Миколаєв...</td>\n",
       "      <td>політична партія радикальна партія олега ляшка</td>\n",
       "      <td>2019-06-24</td>\n",
       "      <td>M</td>\n",
       "      <td>...</td>\n",
       "      <td>NaN</td>\n",
       "      <td>NaN</td>\n",
       "      <td>NaN</td>\n",
       "      <td>NaN</td>\n",
       "      <td>False</td>\n",
       "      <td>False</td>\n",
       "      <td>0</td>\n",
       "      <td>no</td>\n",
       "      <td>orange</td>\n",
       "      <td>NaN</td>\n",
       "    </tr>\n",
       "    <tr>\n",
       "      <th>9011</th>\n",
       "      <td>БоядінВячеслав Сергійович</td>\n",
       "      <td>NaN</td>\n",
       "      <td>NaN</td>\n",
       "      <td>223</td>\n",
       "      <td>м.Київ</td>\n",
       "      <td>2019</td>\n",
       "      <td>NaN</td>\n",
       "      <td>NaN</td>\n",
       "      <td>NaN</td>\n",
       "      <td>NaN</td>\n",
       "      <td>...</td>\n",
       "      <td>NaN</td>\n",
       "      <td>NaN</td>\n",
       "      <td>NaN</td>\n",
       "      <td>NaN</td>\n",
       "      <td>False</td>\n",
       "      <td>False</td>\n",
       "      <td>0</td>\n",
       "      <td>no</td>\n",
       "      <td>blue</td>\n",
       "      <td>12.0</td>\n",
       "    </tr>\n",
       "    <tr>\n",
       "      <th>9012</th>\n",
       "      <td>Буймістер Людмила Анатоліївна</td>\n",
       "      <td>NaN</td>\n",
       "      <td>NaN</td>\n",
       "      <td>223</td>\n",
       "      <td>м.Київ</td>\n",
       "      <td>2019</td>\n",
       "      <td>народилася 5 листопада 1985 року в місті Москв...</td>\n",
       "      <td>політична партія слуга народу</td>\n",
       "      <td>2019-06-25</td>\n",
       "      <td>F</td>\n",
       "      <td>...</td>\n",
       "      <td>NaN</td>\n",
       "      <td>NaN</td>\n",
       "      <td>NaN</td>\n",
       "      <td>NaN</td>\n",
       "      <td>False</td>\n",
       "      <td>False</td>\n",
       "      <td>0</td>\n",
       "      <td>yes</td>\n",
       "      <td>orange</td>\n",
       "      <td>45.5</td>\n",
       "    </tr>\n",
       "    <tr>\n",
       "      <th>9013</th>\n",
       "      <td>Гладчук Вадим Федорович</td>\n",
       "      <td>NaN</td>\n",
       "      <td>NaN</td>\n",
       "      <td>223</td>\n",
       "      <td>м.Київ</td>\n",
       "      <td>2019</td>\n",
       "      <td>народився 9 лютого 1975 року в місті Києві, гр...</td>\n",
       "      <td>самовисування</td>\n",
       "      <td>2019-06-07</td>\n",
       "      <td>M</td>\n",
       "      <td>...</td>\n",
       "      <td>NaN</td>\n",
       "      <td>NaN</td>\n",
       "      <td>NaN</td>\n",
       "      <td>NaN</td>\n",
       "      <td>False</td>\n",
       "      <td>False</td>\n",
       "      <td>0</td>\n",
       "      <td>no</td>\n",
       "      <td>grey</td>\n",
       "      <td>NaN</td>\n",
       "    </tr>\n",
       "    <tr>\n",
       "      <th>9014</th>\n",
       "      <td>Гончарова Тетяна Іванівна</td>\n",
       "      <td>NaN</td>\n",
       "      <td>NaN</td>\n",
       "      <td>223</td>\n",
       "      <td>м.Київ</td>\n",
       "      <td>2019</td>\n",
       "      <td>народилася 6 квiтня 1977 року в місті Луганськ...</td>\n",
       "      <td>самовисування</td>\n",
       "      <td>2019-06-11</td>\n",
       "      <td>F</td>\n",
       "      <td>...</td>\n",
       "      <td>NaN</td>\n",
       "      <td>NaN</td>\n",
       "      <td>NaN</td>\n",
       "      <td>NaN</td>\n",
       "      <td>False</td>\n",
       "      <td>False</td>\n",
       "      <td>0</td>\n",
       "      <td>no</td>\n",
       "      <td>grey</td>\n",
       "      <td>NaN</td>\n",
       "    </tr>\n",
       "    <tr>\n",
       "      <th>9015</th>\n",
       "      <td>Гоцький Микола Миколайович</td>\n",
       "      <td>NaN</td>\n",
       "      <td>NaN</td>\n",
       "      <td>223</td>\n",
       "      <td>м.Київ</td>\n",
       "      <td>2019</td>\n",
       "      <td>народився 22 травня 1966 року в місті Києві, г...</td>\n",
       "      <td>політична партія всеукраїнське обєднання батьк...</td>\n",
       "      <td>2019-06-24</td>\n",
       "      <td>M</td>\n",
       "      <td>...</td>\n",
       "      <td>NaN</td>\n",
       "      <td>NaN</td>\n",
       "      <td>NaN</td>\n",
       "      <td>NaN</td>\n",
       "      <td>False</td>\n",
       "      <td>False</td>\n",
       "      <td>0</td>\n",
       "      <td>no</td>\n",
       "      <td>orange</td>\n",
       "      <td>7.2</td>\n",
       "    </tr>\n",
       "    <tr>\n",
       "      <th>9016</th>\n",
       "      <td>Григоренко Олександр Іванович</td>\n",
       "      <td>NaN</td>\n",
       "      <td>NaN</td>\n",
       "      <td>223</td>\n",
       "      <td>м.Київ</td>\n",
       "      <td>2019</td>\n",
       "      <td>народився 29 серпня 1955 року в смт Краснопілл...</td>\n",
       "      <td>самовисування</td>\n",
       "      <td>2019-06-19</td>\n",
       "      <td>M</td>\n",
       "      <td>...</td>\n",
       "      <td>NaN</td>\n",
       "      <td>NaN</td>\n",
       "      <td>NaN</td>\n",
       "      <td>NaN</td>\n",
       "      <td>False</td>\n",
       "      <td>False</td>\n",
       "      <td>0</td>\n",
       "      <td>no</td>\n",
       "      <td>grey</td>\n",
       "      <td>NaN</td>\n",
       "    </tr>\n",
       "    <tr>\n",
       "      <th>9017</th>\n",
       "      <td>Желябовська Яна Олегівна</td>\n",
       "      <td>NaN</td>\n",
       "      <td>NaN</td>\n",
       "      <td>223</td>\n",
       "      <td>м.Київ</td>\n",
       "      <td>2019</td>\n",
       "      <td>народилася 4 вересня 1991 року в місті Жовті В...</td>\n",
       "      <td>політична партія удар український демократични...</td>\n",
       "      <td>2019-06-25</td>\n",
       "      <td>F</td>\n",
       "      <td>...</td>\n",
       "      <td>NaN</td>\n",
       "      <td>NaN</td>\n",
       "      <td>NaN</td>\n",
       "      <td>NaN</td>\n",
       "      <td>False</td>\n",
       "      <td>False</td>\n",
       "      <td>0</td>\n",
       "      <td>no</td>\n",
       "      <td>orange</td>\n",
       "      <td>NaN</td>\n",
       "    </tr>\n",
       "    <tr>\n",
       "      <th>9018</th>\n",
       "      <td>Звягін Іван Юрійович</td>\n",
       "      <td>NaN</td>\n",
       "      <td>NaN</td>\n",
       "      <td>223</td>\n",
       "      <td>м.Київ</td>\n",
       "      <td>2019</td>\n",
       "      <td>народився 28 грудня 1976 року в місті Києві, г...</td>\n",
       "      <td>політична партія європейська солідарність</td>\n",
       "      <td>2019-06-24</td>\n",
       "      <td>M</td>\n",
       "      <td>...</td>\n",
       "      <td>NaN</td>\n",
       "      <td>NaN</td>\n",
       "      <td>NaN</td>\n",
       "      <td>NaN</td>\n",
       "      <td>False</td>\n",
       "      <td>False</td>\n",
       "      <td>0</td>\n",
       "      <td>no</td>\n",
       "      <td>orange</td>\n",
       "      <td>8.3</td>\n",
       "    </tr>\n",
       "    <tr>\n",
       "      <th>9019</th>\n",
       "      <td>Зубицький Ігор Данилович</td>\n",
       "      <td>NaN</td>\n",
       "      <td>NaN</td>\n",
       "      <td>223</td>\n",
       "      <td>м.Київ</td>\n",
       "      <td>2019</td>\n",
       "      <td>народився 25 червня 1971 року в місті Києві, г...</td>\n",
       "      <td>самовисування</td>\n",
       "      <td>2019-06-23</td>\n",
       "      <td>M</td>\n",
       "      <td>...</td>\n",
       "      <td>NaN</td>\n",
       "      <td>NaN</td>\n",
       "      <td>NaN</td>\n",
       "      <td>NaN</td>\n",
       "      <td>False</td>\n",
       "      <td>False</td>\n",
       "      <td>0</td>\n",
       "      <td>no</td>\n",
       "      <td>grey</td>\n",
       "      <td>NaN</td>\n",
       "    </tr>\n",
       "    <tr>\n",
       "      <th>9020</th>\n",
       "      <td>Левченко Юрій Володимирович</td>\n",
       "      <td>NaN</td>\n",
       "      <td>NaN</td>\n",
       "      <td>223</td>\n",
       "      <td>м.Київ</td>\n",
       "      <td>2019</td>\n",
       "      <td>народився 1 жовтня 1984 року в місті Вінниці, ...</td>\n",
       "      <td>політична партія всеукраїнське обєднання свобода</td>\n",
       "      <td>2019-06-22</td>\n",
       "      <td>M</td>\n",
       "      <td>...</td>\n",
       "      <td>NaN</td>\n",
       "      <td>NaN</td>\n",
       "      <td>NaN</td>\n",
       "      <td>NaN</td>\n",
       "      <td>True</td>\n",
       "      <td>True</td>\n",
       "      <td>0</td>\n",
       "      <td>no</td>\n",
       "      <td>orange</td>\n",
       "      <td>NaN</td>\n",
       "    </tr>\n",
       "    <tr>\n",
       "      <th>9021</th>\n",
       "      <td>Майман Михайло Веніамінович</td>\n",
       "      <td>NaN</td>\n",
       "      <td>NaN</td>\n",
       "      <td>223</td>\n",
       "      <td>м.Київ</td>\n",
       "      <td>2019</td>\n",
       "      <td>народився 11 лютого 1985 року в місті Києві, г...</td>\n",
       "      <td>самовисування</td>\n",
       "      <td>2019-06-24</td>\n",
       "      <td>M</td>\n",
       "      <td>...</td>\n",
       "      <td>NaN</td>\n",
       "      <td>NaN</td>\n",
       "      <td>NaN</td>\n",
       "      <td>NaN</td>\n",
       "      <td>False</td>\n",
       "      <td>False</td>\n",
       "      <td>0</td>\n",
       "      <td>no</td>\n",
       "      <td>grey</td>\n",
       "      <td>NaN</td>\n",
       "    </tr>\n",
       "    <tr>\n",
       "      <th>9022</th>\n",
       "      <td>Носенко Сергій Михайлович</td>\n",
       "      <td>NaN</td>\n",
       "      <td>NaN</td>\n",
       "      <td>223</td>\n",
       "      <td>м.Київ</td>\n",
       "      <td>2019</td>\n",
       "      <td>народився 28 вересня 1969 року в місті Києві, ...</td>\n",
       "      <td>самовисування</td>\n",
       "      <td>2019-06-25</td>\n",
       "      <td>M</td>\n",
       "      <td>...</td>\n",
       "      <td>NaN</td>\n",
       "      <td>NaN</td>\n",
       "      <td>NaN</td>\n",
       "      <td>NaN</td>\n",
       "      <td>False</td>\n",
       "      <td>False</td>\n",
       "      <td>0</td>\n",
       "      <td>no</td>\n",
       "      <td>grey</td>\n",
       "      <td>NaN</td>\n",
       "    </tr>\n",
       "    <tr>\n",
       "      <th>9023</th>\n",
       "      <td>Омельченко Олександр Олександрович</td>\n",
       "      <td>NaN</td>\n",
       "      <td>NaN</td>\n",
       "      <td>223</td>\n",
       "      <td>м.Київ</td>\n",
       "      <td>2019</td>\n",
       "      <td>народився 9 серпня 1938 року в селі Зозів Липо...</td>\n",
       "      <td>українська партія єдність</td>\n",
       "      <td>2019-06-25</td>\n",
       "      <td>M</td>\n",
       "      <td>...</td>\n",
       "      <td>NaN</td>\n",
       "      <td>NaN</td>\n",
       "      <td>NaN</td>\n",
       "      <td>NaN</td>\n",
       "      <td>False</td>\n",
       "      <td>True</td>\n",
       "      <td>0</td>\n",
       "      <td>no</td>\n",
       "      <td>grey</td>\n",
       "      <td>NaN</td>\n",
       "    </tr>\n",
       "    <tr>\n",
       "      <th>9024</th>\n",
       "      <td>Подщипков Андрій Юрійович</td>\n",
       "      <td>NaN</td>\n",
       "      <td>NaN</td>\n",
       "      <td>223</td>\n",
       "      <td>м.Київ</td>\n",
       "      <td>2019</td>\n",
       "      <td>народився 18 травня 1975 року в місті Полтаві,...</td>\n",
       "      <td>самовисування</td>\n",
       "      <td>2019-06-25</td>\n",
       "      <td>M</td>\n",
       "      <td>...</td>\n",
       "      <td>NaN</td>\n",
       "      <td>NaN</td>\n",
       "      <td>NaN</td>\n",
       "      <td>NaN</td>\n",
       "      <td>False</td>\n",
       "      <td>False</td>\n",
       "      <td>0</td>\n",
       "      <td>no</td>\n",
       "      <td>grey</td>\n",
       "      <td>NaN</td>\n",
       "    </tr>\n",
       "    <tr>\n",
       "      <th>9025</th>\n",
       "      <td>Пташник Вікторія Юріївна</td>\n",
       "      <td>NaN</td>\n",
       "      <td>NaN</td>\n",
       "      <td>223</td>\n",
       "      <td>м.Київ</td>\n",
       "      <td>2019</td>\n",
       "      <td>народилася 1 сiчня 1983 року в місті Києві, гр...</td>\n",
       "      <td>політична партія голос</td>\n",
       "      <td>2019-06-19</td>\n",
       "      <td>F</td>\n",
       "      <td>...</td>\n",
       "      <td>NaN</td>\n",
       "      <td>NaN</td>\n",
       "      <td>NaN</td>\n",
       "      <td>NaN</td>\n",
       "      <td>True</td>\n",
       "      <td>True</td>\n",
       "      <td>0</td>\n",
       "      <td>no</td>\n",
       "      <td>orange</td>\n",
       "      <td>6.6</td>\n",
       "    </tr>\n",
       "    <tr>\n",
       "      <th>9026</th>\n",
       "      <td>Рафальська Інна Владиславівна</td>\n",
       "      <td>NaN</td>\n",
       "      <td>NaN</td>\n",
       "      <td>223</td>\n",
       "      <td>м.Київ</td>\n",
       "      <td>2019</td>\n",
       "      <td>народилася 21 лютого 1964 року в місті Києві, ...</td>\n",
       "      <td>самовисування</td>\n",
       "      <td>2019-06-07</td>\n",
       "      <td>F</td>\n",
       "      <td>...</td>\n",
       "      <td>NaN</td>\n",
       "      <td>NaN</td>\n",
       "      <td>NaN</td>\n",
       "      <td>NaN</td>\n",
       "      <td>False</td>\n",
       "      <td>False</td>\n",
       "      <td>0</td>\n",
       "      <td>no</td>\n",
       "      <td>grey</td>\n",
       "      <td>NaN</td>\n",
       "    </tr>\n",
       "    <tr>\n",
       "      <th>9027</th>\n",
       "      <td>Ситюк Владислав Вадимович</td>\n",
       "      <td>NaN</td>\n",
       "      <td>NaN</td>\n",
       "      <td>223</td>\n",
       "      <td>м.Київ</td>\n",
       "      <td>2019</td>\n",
       "      <td>народився 14 липня 1980 року в місті Києві, гр...</td>\n",
       "      <td>самовисування</td>\n",
       "      <td>2019-06-19</td>\n",
       "      <td>M</td>\n",
       "      <td>...</td>\n",
       "      <td>NaN</td>\n",
       "      <td>NaN</td>\n",
       "      <td>NaN</td>\n",
       "      <td>NaN</td>\n",
       "      <td>False</td>\n",
       "      <td>False</td>\n",
       "      <td>0</td>\n",
       "      <td>no</td>\n",
       "      <td>grey</td>\n",
       "      <td>NaN</td>\n",
       "    </tr>\n",
       "    <tr>\n",
       "      <th>9028</th>\n",
       "      <td>Турчик Ігор Михайлович</td>\n",
       "      <td>NaN</td>\n",
       "      <td>NaN</td>\n",
       "      <td>223</td>\n",
       "      <td>м.Київ</td>\n",
       "      <td>2019</td>\n",
       "      <td>народився 3 червня 1977 року в місті Вінниці, ...</td>\n",
       "      <td>політична партія опозиційний блок</td>\n",
       "      <td>2019-06-25</td>\n",
       "      <td>M</td>\n",
       "      <td>...</td>\n",
       "      <td>NaN</td>\n",
       "      <td>NaN</td>\n",
       "      <td>NaN</td>\n",
       "      <td>NaN</td>\n",
       "      <td>False</td>\n",
       "      <td>False</td>\n",
       "      <td>0</td>\n",
       "      <td>no</td>\n",
       "      <td>blue</td>\n",
       "      <td>NaN</td>\n",
       "    </tr>\n",
       "  </tbody>\n",
       "</table>\n",
       "<p>9029 rows × 29 columns</p>\n",
       "</div>"
      ],
      "text/plain": [
       "                                 deputat  perc_for  votes_for  tvo  \\\n",
       "0               Дзоз Віталіна Олексіївна     38.76    27937.0    1   \n",
       "1                   Грач Леонід Іванович     17.98    12960.0    1   \n",
       "2              Соломахін Олег Андрійович     10.58     7630.0    1   \n",
       "3             Аксенов Сергій Валерійович      9.12     6575.0    1   \n",
       "4             Доценко Сергій Миколайович      6.71     4838.0    1   \n",
       "5             Лобачев Сергій Миколайович      6.22     4485.0    1   \n",
       "6               Семенова Лариса Іванівна      2.28     1646.0    1   \n",
       "7       Толкачов Володимир Володимирович      1.55     1119.0    1   \n",
       "8              Пузако Володимир Іванович      1.17      847.0    1   \n",
       "9              Волков Олександр Петрович      0.88      635.0    1   \n",
       "10          Вольнюк Олександр Григорович      0.76      551.0    1   \n",
       "11        Веселовський Сергій Михайлович      0.69      501.0    1   \n",
       "12        Литвинов Анатолій Анатолійович      0.68      492.0    1   \n",
       "13                 Чолак Віктор Петрович      0.61      445.0    1   \n",
       "14             Фесенко Сергій Вікторович      0.49      357.0    1   \n",
       "15     Бондаренко Володимир Анатолійович      0.43      310.0    1   \n",
       "16           Жудєєв Дмитро Олександрович      0.39      286.0    1   \n",
       "17          Басараб Віталій Геннадійович      0.29      212.0    1   \n",
       "18            Островський Петро Сергович      0.17      128.0    1   \n",
       "19            Лазебніков Сергій Юрійович      0.15      115.0    1   \n",
       "20               Миримський Лев Юлійович     36.45    23755.0    2   \n",
       "21              Кіскін Степан Степанович     27.13    17683.0    2   \n",
       "22           Сидорова Абіба Іскандарівна      8.82     5753.0    2   \n",
       "23              Калюбін Юрій Олексійович      6.11     3988.0    2   \n",
       "24         Спірідонов Олександр Юрійович      4.12     2686.0    2   \n",
       "25            Аксьонова Надія Вікторівна      3.12     2034.0    2   \n",
       "26             Лось Анатолій Миколайович      2.10     1373.0    2   \n",
       "27                Андрєєва Яна Сергіївна      1.45      951.0    2   \n",
       "28              Петров Анатолій Іванович      1.40      914.0    2   \n",
       "29               Януцик Олексій Юрійович      1.36      891.0    2   \n",
       "...                                  ...       ...        ...  ...   \n",
       "8999               Грищук Роман Павлович       NaN        NaN  222   \n",
       "9000          Дорофеєв Віктор Вікторович       NaN        NaN  222   \n",
       "9001             Клейменов Аким Ігорович       NaN        NaN  222   \n",
       "9002       Лабоженко Олександр Дмитрович       NaN        NaN  222   \n",
       "9003             Лубкін Даніїл Дмитрович       NaN        NaN  222   \n",
       "9004          Луцький Максим Георгійович       NaN        NaN  222   \n",
       "9005      Назаренко Володимир Едуардович       NaN        NaN  222   \n",
       "9006       Руденко Віталій Володимирович       NaN        NaN  222   \n",
       "9007            Убірія Вахтангі Шалвович       NaN        NaN  222   \n",
       "9008               Шкуро Максим Юрійович       NaN        NaN  222   \n",
       "9009           Аніськович Павло Юрійович       NaN        NaN  223   \n",
       "9010                 Бєлов Ігор Ігорович       NaN        NaN  223   \n",
       "9011           БоядінВячеслав Сергійович       NaN        NaN  223   \n",
       "9012       Буймістер Людмила Анатоліївна       NaN        NaN  223   \n",
       "9013             Гладчук Вадим Федорович       NaN        NaN  223   \n",
       "9014           Гончарова Тетяна Іванівна       NaN        NaN  223   \n",
       "9015          Гоцький Микола Миколайович       NaN        NaN  223   \n",
       "9016       Григоренко Олександр Іванович       NaN        NaN  223   \n",
       "9017            Желябовська Яна Олегівна       NaN        NaN  223   \n",
       "9018                Звягін Іван Юрійович       NaN        NaN  223   \n",
       "9019            Зубицький Ігор Данилович       NaN        NaN  223   \n",
       "9020         Левченко Юрій Володимирович       NaN        NaN  223   \n",
       "9021         Майман Михайло Веніамінович       NaN        NaN  223   \n",
       "9022           Носенко Сергій Михайлович       NaN        NaN  223   \n",
       "9023  Омельченко Олександр Олександрович       NaN        NaN  223   \n",
       "9024           Подщипков Андрій Юрійович       NaN        NaN  223   \n",
       "9025            Пташник Вікторія Юріївна       NaN        NaN  223   \n",
       "9026       Рафальська Інна Владиславівна       NaN        NaN  223   \n",
       "9027           Ситюк Владислав Вадимович       NaN        NaN  223   \n",
       "9028              Турчик Ігор Михайлович       NaN        NaN  223   \n",
       "\n",
       "                         oblast  year  \\\n",
       "0     Автономна Республіка Крим  2012   \n",
       "1     Автономна Республіка Крим  2012   \n",
       "2     Автономна Республіка Крим  2012   \n",
       "3     Автономна Республіка Крим  2012   \n",
       "4     Автономна Республіка Крим  2012   \n",
       "5     Автономна Республіка Крим  2012   \n",
       "6     Автономна Республіка Крим  2012   \n",
       "7     Автономна Республіка Крим  2012   \n",
       "8     Автономна Республіка Крим  2012   \n",
       "9     Автономна Республіка Крим  2012   \n",
       "10    Автономна Республіка Крим  2012   \n",
       "11    Автономна Республіка Крим  2012   \n",
       "12    Автономна Республіка Крим  2012   \n",
       "13    Автономна Республіка Крим  2012   \n",
       "14    Автономна Республіка Крим  2012   \n",
       "15    Автономна Республіка Крим  2012   \n",
       "16    Автономна Республіка Крим  2012   \n",
       "17    Автономна Республіка Крим  2012   \n",
       "18    Автономна Республіка Крим  2012   \n",
       "19    Автономна Республіка Крим  2012   \n",
       "20    Автономна Республіка Крим  2012   \n",
       "21    Автономна Республіка Крим  2012   \n",
       "22    Автономна Республіка Крим  2012   \n",
       "23    Автономна Республіка Крим  2012   \n",
       "24    Автономна Республіка Крим  2012   \n",
       "25    Автономна Республіка Крим  2012   \n",
       "26    Автономна Республіка Крим  2012   \n",
       "27    Автономна Республіка Крим  2012   \n",
       "28    Автономна Республіка Крим  2012   \n",
       "29    Автономна Республіка Крим  2012   \n",
       "...                         ...   ...   \n",
       "8999                     м.Київ  2019   \n",
       "9000                     м.Київ  2019   \n",
       "9001                     м.Київ  2019   \n",
       "9002                     м.Київ  2019   \n",
       "9003                     м.Київ  2019   \n",
       "9004                     м.Київ  2019   \n",
       "9005                     м.Київ  2019   \n",
       "9006                     м.Київ  2019   \n",
       "9007                     м.Київ  2019   \n",
       "9008                     м.Київ  2019   \n",
       "9009                     м.Київ  2019   \n",
       "9010                     м.Київ  2019   \n",
       "9011                     м.Київ  2019   \n",
       "9012                     м.Київ  2019   \n",
       "9013                     м.Київ  2019   \n",
       "9014                     м.Київ  2019   \n",
       "9015                     м.Київ  2019   \n",
       "9016                     м.Київ  2019   \n",
       "9017                     м.Київ  2019   \n",
       "9018                     м.Київ  2019   \n",
       "9019                     м.Київ  2019   \n",
       "9020                     м.Київ  2019   \n",
       "9021                     м.Київ  2019   \n",
       "9022                     м.Київ  2019   \n",
       "9023                     м.Київ  2019   \n",
       "9024                     м.Київ  2019   \n",
       "9025                     м.Київ  2019   \n",
       "9026                     м.Київ  2019   \n",
       "9027                     м.Київ  2019   \n",
       "9028                     м.Київ  2019   \n",
       "\n",
       "                                                   info  \\\n",
       "0     народилася 16 листопада 1955 року в місті Крив...   \n",
       "1     народився 1 сiчня 1948 року в селі Бродецьке К...   \n",
       "2     народився 24 червня 1960 року в місті Херсоні,...   \n",
       "3     народився 26 листопада 1972 року в місті Бєльц...   \n",
       "4     народився 27 липня 1979 року в селі Ромашкине ...   \n",
       "5     народився 10 червня 1944 року в селі Абезь Інт...   \n",
       "6     народилася 12 лютого 1954 року в місті Євпатор...   \n",
       "7     народився 15 листопада 1964 року в місті Сімфе...   \n",
       "8     народився 16 липня 1951 року в місті Біла Церк...   \n",
       "9     народився 6 вересня 1946 року в радгоспі Перво...   \n",
       "10    народився 19 сiчня 1977 року в місті Сімферопо...   \n",
       "11    народився 31 сiчня 1967 року в селищі Красногв...   \n",
       "12    народився 28 березня 1959 року в місті Запоріж...   \n",
       "13    народився 27 серпня 1991 року в селі Дмитрівка...   \n",
       "14    народився 6 лютого 1980 року в місті Сімферопо...   \n",
       "15    народився 4 грудня 1966 року в селі Найденівка...   \n",
       "16    народився 1 грудня 1982 року в місті Сімферопо...   \n",
       "17    народився 21 червня 1961 року в місті Сімфероп...   \n",
       "18    народився 25 квiтня 1980 року в місті Сімфероп...   \n",
       "19    народився 22 квiтня 1984 року в селі П’ятихатк...   \n",
       "20    народився 2 квiтня 1960 року в місті Сімферопо...   \n",
       "21    народився 8 квiтня 1962 року в селищі Первомай...   \n",
       "22    народилася 13 травня 1954 року в селі Куйбишев...   \n",
       "23    народився 22 лютого 1986 року в місті Сімфероп...   \n",
       "24    народився 5 травня 1985 року в селищі Нижньогі...   \n",
       "25    народилася 12 серпня 1977 року в місті Сімферо...   \n",
       "26    народився 19 травня 1940 року в станиці Тверсь...   \n",
       "27    народилася 10 грудня 1980 року в смт Овідіопол...   \n",
       "28    народився 6 листопада 1960 року в селі Лісносі...   \n",
       "29    народився 15 серпня 1978 року в місті Сімфероп...   \n",
       "...                                                 ...   \n",
       "8999  народився 27 серпня 1989 року в місті Києві, г...   \n",
       "9000  народився 12 березня 1984 року в місті Києві, ...   \n",
       "9001  народився 24 квiтня 1981 року в місті Києві, г...   \n",
       "9002  народився 2 березня 1996 року в місті Харкові,...   \n",
       "9003  народився 8 серпня 1997 року в місті Києві, гр...   \n",
       "9004  народився 4 червня 1976 року в місті Києві, гр...   \n",
       "9005  народився 14 липня 1991 року в місті Києві, гр...   \n",
       "9006  народився 5 червня 1964 року в місті Києві, гр...   \n",
       "9007  народився 22 серпня 1950 року в місті Очамчира...   \n",
       "9008  народився 6 жовтня 1978 року в місті Києві, гр...   \n",
       "9009  народився 27 листопада 1964 року в місті Києві...   \n",
       "9010  народився 8 вересня 1995 року в місті Миколаєв...   \n",
       "9011                                                NaN   \n",
       "9012  народилася 5 листопада 1985 року в місті Москв...   \n",
       "9013  народився 9 лютого 1975 року в місті Києві, гр...   \n",
       "9014  народилася 6 квiтня 1977 року в місті Луганськ...   \n",
       "9015  народився 22 травня 1966 року в місті Києві, г...   \n",
       "9016  народився 29 серпня 1955 року в смт Краснопілл...   \n",
       "9017  народилася 4 вересня 1991 року в місті Жовті В...   \n",
       "9018  народився 28 грудня 1976 року в місті Києві, г...   \n",
       "9019  народився 25 червня 1971 року в місті Києві, г...   \n",
       "9020  народився 1 жовтня 1984 року в місті Вінниці, ...   \n",
       "9021  народився 11 лютого 1985 року в місті Києві, г...   \n",
       "9022  народився 28 вересня 1969 року в місті Києві, ...   \n",
       "9023  народився 9 серпня 1938 року в селі Зозів Липо...   \n",
       "9024  народився 18 травня 1975 року в місті Полтаві,...   \n",
       "9025  народилася 1 сiчня 1983 року в місті Києві, гр...   \n",
       "9026  народилася 21 лютого 1964 року в місті Києві, ...   \n",
       "9027  народився 14 липня 1980 року в місті Києві, гр...   \n",
       "9028  народився 3 червня 1977 року в місті Вінниці, ...   \n",
       "\n",
       "                                               proposed registration gender  \\\n",
       "0                                       партія регіонів   2012-08-07      F   \n",
       "1                                         самовисування   2012-08-03      M   \n",
       "2                           комуністична партія україни   2012-08-03      M   \n",
       "3                       політична партія руська єдність   2012-08-15      M   \n",
       "4     політична партія удар український демократични...   2012-08-09      M   \n",
       "5     політична партія всеукраїнське обєднання батьк...   2012-08-08      M   \n",
       "6                                партія зелених україни   2012-08-13      F   \n",
       "7           партія наталії королевської україна  вперед   2012-08-11      M   \n",
       "8                      українська партія зелена планета   2012-08-14      M   \n",
       "9                                         самовисування   2012-08-10      M   \n",
       "10                              політична партія зелені   2012-08-08      M   \n",
       "11                                        самовисування   2012-08-13      M   \n",
       "12                        партія обєднані ліві і селяни   2012-08-13      M   \n",
       "13                                        самовисування   2012-08-14      M   \n",
       "14                            українська морська партія   2012-08-11      M   \n",
       "15                             політична партія держава   2012-08-07      M   \n",
       "16    соціальноекологічна партія союз чорнобиль україна   2012-08-13      M   \n",
       "17                       політична партія нова політика   2012-08-13      M   \n",
       "18                                          партія віче   2012-08-07      M   \n",
       "19                  політична партія народна ініціатива   2012-08-06      M   \n",
       "20                                          партія союз   2012-08-10      M   \n",
       "21                          комуністична партія україни   2012-08-03      M   \n",
       "22    політична партія всеукраїнське обєднання батьк...   2012-08-08      F   \n",
       "23    політична партія удар український демократични...   2012-08-09      M   \n",
       "24                      політична партія руська єдність   2012-08-15      M   \n",
       "25                     українська партія зелена планета   2012-08-14      F   \n",
       "26                  політична партія україни русь єдина   2012-08-10      M   \n",
       "27                               партія зелених україни   2012-08-13      F   \n",
       "28                                        самовисування   2012-08-09      M   \n",
       "29                                        самовисування   2012-08-15      M   \n",
       "...                                                 ...          ...    ...   \n",
       "8999                      політична партія слуга народу   2019-06-25      M   \n",
       "9000                                      самовисування   2019-06-25      M   \n",
       "9001                      політична партія сила і честь   2019-06-25      M   \n",
       "9002                  політична партія опозиційний блок   2019-06-25      M   \n",
       "9003                          політична партія розвиток   2019-06-24      M   \n",
       "9004    політична партія опозиційна платформа  за життя   2019-06-24      M   \n",
       "9005   політична партія всеукраїнське обєднання свобода   2019-06-18      M   \n",
       "9006                                      самовисування   2019-06-25      M   \n",
       "9007                                      самовисування   2019-06-07      M   \n",
       "9008                                      самовисування   2019-06-23      M   \n",
       "9009              політична партія громадянська позиція   2019-06-15      M   \n",
       "9010     політична партія радикальна партія олега ляшка   2019-06-24      M   \n",
       "9011                                                NaN          NaN    NaN   \n",
       "9012                      політична партія слуга народу   2019-06-25      F   \n",
       "9013                                      самовисування   2019-06-07      M   \n",
       "9014                                      самовисування   2019-06-11      F   \n",
       "9015  політична партія всеукраїнське обєднання батьк...   2019-06-24      M   \n",
       "9016                                      самовисування   2019-06-19      M   \n",
       "9017  політична партія удар український демократични...   2019-06-25      F   \n",
       "9018          політична партія європейська солідарність   2019-06-24      M   \n",
       "9019                                      самовисування   2019-06-23      M   \n",
       "9020   політична партія всеукраїнське обєднання свобода   2019-06-22      M   \n",
       "9021                                      самовисування   2019-06-24      M   \n",
       "9022                                      самовисування   2019-06-25      M   \n",
       "9023                          українська партія єдність   2019-06-25      M   \n",
       "9024                                      самовисування   2019-06-25      M   \n",
       "9025                             політична партія голос   2019-06-19      F   \n",
       "9026                                      самовисування   2019-06-07      F   \n",
       "9027                                      самовисування   2019-06-19      M   \n",
       "9028                  політична партія опозиційний блок   2019-06-25      M   \n",
       "\n",
       "      ...  winner average_age pop_change region_ideology previous   ever  \\\n",
       "0     ...    True        40.4        1.1            blue    False  False   \n",
       "1     ...   False        40.4        1.1            blue     True   True   \n",
       "2     ...   False        40.4        1.1            blue    False  False   \n",
       "3     ...   False        40.4        1.1            blue    False  False   \n",
       "4     ...   False        40.4        1.1            blue    False  False   \n",
       "5     ...   False        40.4        1.1            blue    False  False   \n",
       "6     ...   False        40.4        1.1            blue    False  False   \n",
       "7     ...   False        40.4        1.1            blue    False  False   \n",
       "8     ...   False        40.4        1.1            blue    False  False   \n",
       "9     ...   False        40.4        1.1            blue    False  False   \n",
       "10    ...   False        40.4        1.1            blue    False  False   \n",
       "11    ...   False        40.4        1.1            blue    False  False   \n",
       "12    ...   False        40.4        1.1            blue    False  False   \n",
       "13    ...   False        40.4        1.1            blue    False  False   \n",
       "14    ...   False        40.4        1.1            blue    False  False   \n",
       "15    ...   False        40.4        1.1            blue    False  False   \n",
       "16    ...   False        40.4        1.1            blue    False  False   \n",
       "17    ...   False        40.4        1.1            blue    False  False   \n",
       "18    ...   False        40.4        1.1            blue    False  False   \n",
       "19    ...   False        40.4        1.1            blue    False  False   \n",
       "20    ...    True        40.4        1.1            blue    False   True   \n",
       "21    ...   False        40.4        1.1            blue    False  False   \n",
       "22    ...   False        40.4        1.1            blue    False  False   \n",
       "23    ...   False        40.4        1.1            blue    False  False   \n",
       "24    ...   False        40.4        1.1            blue    False  False   \n",
       "25    ...   False        40.4        1.1            blue    False  False   \n",
       "26    ...   False        40.4        1.1            blue    False  False   \n",
       "27    ...   False        40.4        1.1            blue    False  False   \n",
       "28    ...   False        40.4        1.1            blue    False  False   \n",
       "29    ...   False        40.4        1.1            blue    False  False   \n",
       "...   ...     ...         ...        ...             ...      ...    ...   \n",
       "8999  ...     NaN         NaN        NaN             NaN    False  False   \n",
       "9000  ...     NaN         NaN        NaN             NaN    False  False   \n",
       "9001  ...     NaN         NaN        NaN             NaN    False  False   \n",
       "9002  ...     NaN         NaN        NaN             NaN    False  False   \n",
       "9003  ...     NaN         NaN        NaN             NaN    False  False   \n",
       "9004  ...     NaN         NaN        NaN             NaN    False   True   \n",
       "9005  ...     NaN         NaN        NaN             NaN    False  False   \n",
       "9006  ...     NaN         NaN        NaN             NaN    False  False   \n",
       "9007  ...     NaN         NaN        NaN             NaN    False  False   \n",
       "9008  ...     NaN         NaN        NaN             NaN    False  False   \n",
       "9009  ...     NaN         NaN        NaN             NaN    False  False   \n",
       "9010  ...     NaN         NaN        NaN             NaN    False  False   \n",
       "9011  ...     NaN         NaN        NaN             NaN    False  False   \n",
       "9012  ...     NaN         NaN        NaN             NaN    False  False   \n",
       "9013  ...     NaN         NaN        NaN             NaN    False  False   \n",
       "9014  ...     NaN         NaN        NaN             NaN    False  False   \n",
       "9015  ...     NaN         NaN        NaN             NaN    False  False   \n",
       "9016  ...     NaN         NaN        NaN             NaN    False  False   \n",
       "9017  ...     NaN         NaN        NaN             NaN    False  False   \n",
       "9018  ...     NaN         NaN        NaN             NaN    False  False   \n",
       "9019  ...     NaN         NaN        NaN             NaN    False  False   \n",
       "9020  ...     NaN         NaN        NaN             NaN     True   True   \n",
       "9021  ...     NaN         NaN        NaN             NaN    False  False   \n",
       "9022  ...     NaN         NaN        NaN             NaN    False  False   \n",
       "9023  ...     NaN         NaN        NaN             NaN    False   True   \n",
       "9024  ...     NaN         NaN        NaN             NaN    False  False   \n",
       "9025  ...     NaN         NaN        NaN             NaN     True   True   \n",
       "9026  ...     NaN         NaN        NaN             NaN    False  False   \n",
       "9027  ...     NaN         NaN        NaN             NaN    False  False   \n",
       "9028  ...     NaN         NaN        NaN             NaN    False  False   \n",
       "\n",
       "     funding  power_status  party_ideology prop_election_forecast  \n",
       "0          0           yes            blue                   30.7  \n",
       "1          0            no            grey                    NaN  \n",
       "2          0           yes            blue                   12.9  \n",
       "3          0            no            blue                    NaN  \n",
       "4          0            no          orange                   19.5  \n",
       "5          0            no          orange                   22.1  \n",
       "6          0            no            grey                    NaN  \n",
       "7          0            no            blue                    NaN  \n",
       "8          0            no            grey                    NaN  \n",
       "9          0            no            grey                    NaN  \n",
       "10         0            no            grey                    NaN  \n",
       "11         0            no            grey                    NaN  \n",
       "12         0            no            grey                    NaN  \n",
       "13         0            no            grey                    NaN  \n",
       "14         0            no            grey                    NaN  \n",
       "15         0            no            grey                    NaN  \n",
       "16         0            no            grey                    NaN  \n",
       "17         0            no            grey                    NaN  \n",
       "18         0            no            grey                    NaN  \n",
       "19         0            no            grey                    NaN  \n",
       "20         0            no            blue                    NaN  \n",
       "21         0           yes            blue                   12.9  \n",
       "22         0            no          orange                   22.1  \n",
       "23         0            no          orange                   19.5  \n",
       "24         0            no            blue                    NaN  \n",
       "25         0            no            grey                    NaN  \n",
       "26         0            no            blue                    NaN  \n",
       "27         0            no            grey                    NaN  \n",
       "28         0            no            grey                    NaN  \n",
       "29         0            no            grey                    NaN  \n",
       "...      ...           ...             ...                    ...  \n",
       "8999       0           yes          orange                   45.5  \n",
       "9000       0            no            grey                    NaN  \n",
       "9001       0            no          orange                    3.9  \n",
       "9002       0            no            blue                    NaN  \n",
       "9003       0            no            grey                    NaN  \n",
       "9004       0            no            blue                   12.0  \n",
       "9005       0            no          orange                    NaN  \n",
       "9006       0            no            grey                    NaN  \n",
       "9007       0            no            grey                    NaN  \n",
       "9008       0            no            grey                    NaN  \n",
       "9009       0            no          orange                    NaN  \n",
       "9010       0            no          orange                    NaN  \n",
       "9011       0            no            blue                   12.0  \n",
       "9012       0           yes          orange                   45.5  \n",
       "9013       0            no            grey                    NaN  \n",
       "9014       0            no            grey                    NaN  \n",
       "9015       0            no          orange                    7.2  \n",
       "9016       0            no            grey                    NaN  \n",
       "9017       0            no          orange                    NaN  \n",
       "9018       0            no          orange                    8.3  \n",
       "9019       0            no            grey                    NaN  \n",
       "9020       0            no          orange                    NaN  \n",
       "9021       0            no            grey                    NaN  \n",
       "9022       0            no            grey                    NaN  \n",
       "9023       0            no            grey                    NaN  \n",
       "9024       0            no            grey                    NaN  \n",
       "9025       0            no          orange                    6.6  \n",
       "9026       0            no            grey                    NaN  \n",
       "9027       0            no            grey                    NaN  \n",
       "9028       0            no            blue                    NaN  \n",
       "\n",
       "[9029 rows x 29 columns]"
      ]
     },
     "execution_count": 13,
     "metadata": {},
     "output_type": "execute_result"
    }
   ],
   "source": [
    "df"
   ]
  },
  {
   "cell_type": "code",
   "execution_count": 8,
   "metadata": {
    "ExecuteTime": {
     "end_time": "2019-07-15T11:11:40.581478Z",
     "start_time": "2019-07-15T11:11:40.574856Z"
    }
   },
   "outputs": [
    {
     "data": {
      "text/plain": [
       "array([30.7,  nan, 12.9, 19.5, 22.1,  6.5, 23. ,  5.6, 13.2,  6.4,  7.6,\n",
       "       21.3,  6.3,  8.3, 12. ,  3.9, 45.5,  7.2,  6.6])"
      ]
     },
     "execution_count": 8,
     "metadata": {},
     "output_type": "execute_result"
    }
   ],
   "source": [
    "df.prop_election_forecast.unique()"
   ]
  },
  {
   "cell_type": "code",
   "execution_count": 6,
   "metadata": {
    "ExecuteTime": {
     "end_time": "2019-07-15T11:11:27.211860Z",
     "start_time": "2019-07-15T11:11:26.890483Z"
    }
   },
   "outputs": [
    {
     "data": {
      "text/plain": [
       "<matplotlib.axes._subplots.AxesSubplot at 0x7f931009de80>"
      ]
     },
     "execution_count": 6,
     "metadata": {},
     "output_type": "execute_result"
    },
    {
     "data": {
      "image/png": "[encoded data removed]",
      "text/plain": [
       "<Figure size 432x288 with 1 Axes>"
      ]
     },
     "metadata": {
      "needs_background": "light"
     },
     "output_type": "display_data"
    }
   ],
   "source": [
    "df.funding.plot.hist()"
   ]
  },
  {
   "cell_type": "markdown",
   "metadata": {},
   "source": [
    "## final prediction distribution\n"
   ]
  },
  {
   "cell_type": "code",
   "execution_count": 81,
   "metadata": {
    "ExecuteTime": {
     "end_time": "2019-07-16T08:36:02.436819Z",
     "start_time": "2019-07-16T08:36:02.390835Z"
    }
   },
   "outputs": [],
   "source": [
    "import ipdb\n",
    "\n",
    "def modeling_parties_as_function(df, col_name, number_of_winners, number_of_trials):\n",
    "    from tqdm import tqdm_notebook as tqdm\n",
    "    \n",
    "    def check_if_smaller(list_of_pred, number):\n",
    "#         list_of_pred = list_of_pred[::-1]\n",
    "        if (list_of_pred[0] > number):\n",
    "            return list_of_pred[0]\n",
    "        if (list_of_pred[0] + list_of_pred[1] > number):\n",
    "            return list_of_pred[1]\n",
    "        if (list_of_pred[0] + list_of_pred[1] + list_of_pred[2] > number):\n",
    "            return list_of_pred[2]\n",
    "        if (list_of_pred[0] + list_of_pred[1] + list_of_pred[2] + list_of_pred[3] > number):\n",
    "            return list_of_pred[3]\n",
    "        else:\n",
    "            return list_of_pred[4]\n",
    "        \n",
    "        \n",
    "    df['tvo'] = df.tvo.astype('object')\n",
    "\n",
    "    \n",
    "#     for full data, to get top 5 results\n",
    "    df = (df.sort_values(col_name, ascending=False)\n",
    "                           .groupby('tvo').head(number_of_winners).sort_values('tvo'))\n",
    "    \n",
    "    df['true_prob_sum'] = df.groupby('tvo')[col_name].transform(sum)\n",
    "    df['true_prob_two_1'] = df[col_name] / df.true_prob_sum\n",
    "    \n",
    "    \n",
    "    \n",
    "    prob = (df.sort_values('true_prob_two_1', ascending=False).groupby('tvo')\n",
    "                 .apply(lambda x: [list(x['true_prob_two_1'].values), \n",
    "                                   list(x['proposed'].values),\n",
    "                                    list(x['deputat'])]\n",
    "                        ).reset_index(name = 'prob'))\n",
    "#     ipdb.set_trace()\n",
    "    prob['prob_value'] = prob.prob.str[0]\n",
    "    prob['party_list'] = prob.prob.str[1]\n",
    "    prob['deputat'] = prob.prob.str[2]\n",
    "\n",
    "\n",
    "#     generating random trials\n",
    "    random_modeling = [np.random.normal(0.5, 0.25,size=number_of_trials) for a in range(0,199)]\n",
    "    \n",
    "#     for situation with the same probability\n",
    "    prob['prob_full'] = prob['prob_value'] + np.random.normal(0.00001, 0.00002,size=1)\n",
    "\n",
    "\n",
    "    res = []\n",
    "    for a in (range(0,len(prob.prob_full))):\n",
    "#         ipdb.set_trace()\n",
    "        res.append([check_if_smaller(prob.prob_full[a], b) for b in random_modeling[a]])\n",
    "\n",
    "\n",
    "    prob['res'] = res\n",
    "\n",
    "    def find_winner_party(x):\n",
    "#         ipdb.set_trace()\n",
    "        dictionary = dict(zip(x['prob_full'], x['party_list']))\n",
    "        return [dictionary[d] for d in x['res']]\n",
    "\n",
    "\n",
    "    prob['winner_party'] = prob.apply(lambda x: find_winner_party(x), axis=1)\n",
    "\n",
    "    final = []\n",
    "    for number in (range(0,number_of_trials)):\n",
    "        final.append(pd.DataFrame({'name':prob.winner_party.str[number].value_counts().index,\n",
    "         'n': prob.winner_party.str[number].value_counts().values,\n",
    "         'trial': number\n",
    "        }))\n",
    "\n",
    "\n",
    "    final_df = pd.concat(final)\n",
    "    return final_df\n",
    "\n",
    "\n"
   ]
  },
  {
   "cell_type": "code",
   "execution_count": 431,
   "metadata": {
    "ExecuteTime": {
     "end_time": "2019-07-16T14:53:55.501107Z",
     "start_time": "2019-07-16T14:53:55.414158Z"
    }
   },
   "outputs": [],
   "source": [
    "pred = pd.read_csv('new_prediction.csv')"
   ]
  },
  {
   "cell_type": "code",
   "execution_count": 242,
   "metadata": {
    "ExecuteTime": {
     "end_time": "2019-07-16T12:16:40.311868Z",
     "start_time": "2019-07-16T12:16:40.301994Z"
    }
   },
   "outputs": [],
   "source": [
    "pred.loc[pred.proposed == 'самовисування', 'proposed'] =  pred.loc[pred.proposed == 'самовисування', 'fraction']"
   ]
  },
  {
   "cell_type": "code",
   "execution_count": 432,
   "metadata": {
    "ExecuteTime": {
     "end_time": "2019-07-16T14:54:50.066921Z",
     "start_time": "2019-07-16T14:53:59.501929Z"
    }
   },
   "outputs": [],
   "source": [
    "pred_modeling_150 = modeling_parties_as_function(pred, 'prediction_150', 5, 1000)\n",
    "pred_modeling_100 = modeling_parties_as_function(pred, 'prediction_100', 5, 1000)\n",
    "pred_modeling_50 = modeling_parties_as_function(pred, 'prediction_50', 5, 1000)\n",
    "pred_modeling_default_plus_class = modeling_parties_as_function(pred, 'prediction_default_plus_class', 5, 1000)"
   ]
  },
  {
   "cell_type": "code",
   "execution_count": 424,
   "metadata": {
    "ExecuteTime": {
     "end_time": "2019-07-16T14:52:11.297430Z",
     "start_time": "2019-07-16T14:52:11.286080Z"
    }
   },
   "outputs": [],
   "source": [
    "def chart(party_name, title, color):\n",
    "    import numpy as np\n",
    "    import seaborn as sns; sns.set(color_codes=True)\n",
    "    from matplotlib.ticker import MaxNLocator\n",
    "\n",
    "    x = pred_modeling_default_plus_class[pred_modeling_default_plus_class.name == party_name].n\n",
    "\n",
    "    # ax = sns.kdeplot(x)\n",
    "    ax = sns.distplot(x, kde=False, color=color, bins=np.arange(x.min(), x.max() + 1))\n",
    "    ax.set_title(title, weight='bold')\n",
    "    ax.set(xlabel='')\n",
    "    \n",
    "\n",
    "    \n",
    "    ax.xaxis.set_major_locator(MaxNLocator(integer=True))\n",
    "    \n",
    "    \n",
    "    \n",
    "    sns.set(rc={'figure.figsize':(4.2,2.4)})\n",
    "\n",
    "    legend = ax.legend()\n",
    "    legend.remove()\n",
    "\n",
    "    ax.set(yticks=[])"
   ]
  },
  {
   "cell_type": "code",
   "execution_count": null,
   "metadata": {
    "ExecuteTime": {
     "start_time": "2019-07-16T14:54:04.448Z"
    }
   },
   "outputs": [
    {
     "name": "stderr",
     "output_type": "stream",
     "text": [
      "No handles with labels found to put in legend.\n"
     ]
    }
   ],
   "source": [
    "# chart('політична партія слуга народу', \"Слуга Народу\", 'green')\n",
    "chart('самовисування', \"Самовисуванці\", 'grey')\n",
    "# chart('політична партія опозиційна платформа  за життя', \"Опозиційна Платформа - За Життя\", 'blue')\n",
    "# chart('політична партія європейська солідарність', \"Європейська Солідарність\", 'red')\n",
    "# chart('політична партія голос', \"Партія Голос\", 'orange')\n",
    "# chart('політична партія всеукраїнське обєднання батьківщина', \"ВО Батьківщина\", 'pink')\n",
    "\n",
    "\n",
    "# дуже мало \n",
    "# chart('політична партія сила і честь', \"Сила і Честь\", 'violet')\n"
   ]
  },
  {
   "cell_type": "code",
   "execution_count": 170,
   "metadata": {
    "ExecuteTime": {
     "end_time": "2019-07-16T11:04:44.225039Z",
     "start_time": "2019-07-16T11:04:43.710033Z"
    }
   },
   "outputs": [],
   "source": [
    "samovys = pd.read_csv('https://docs.google.com/spreadsheets/d/e/2PACX-1vSNxiVppRf_pyTzKIXI-NA-5ncgsmjr8EmKSNUlarYzpdVC12ToK80zDjDXRkWvw_lmF6ng-yoTRMvP/pub?gid=812690743&single=true&output=csv')"
   ]
  },
  {
   "cell_type": "code",
   "execution_count": 177,
   "metadata": {
    "ExecuteTime": {
     "end_time": "2019-07-16T11:05:46.994331Z",
     "start_time": "2019-07-16T11:05:46.973037Z"
    }
   },
   "outputs": [],
   "source": [
    "temp = samovys.fraction.value_counts().reset_index(name='n')\n",
    "temp['perc'] = temp.n/temp.n.sum() * 100"
   ]
  },
  {
   "cell_type": "code",
   "execution_count": 289,
   "metadata": {
    "ExecuteTime": {
     "end_time": "2019-07-16T12:34:11.744202Z",
     "start_time": "2019-07-16T12:34:11.740650Z"
    }
   },
   "outputs": [],
   "source": [
    "# pred_modeling_150.name.value_counts()\n",
    "\n",
    "samov = [\n",
    "'Член депутатської фракції ПАРТІЇ \"БЛОК ПЕТРА ПОРОШЕНКА\"', \n",
    "'Член депутатської фракції Політичної партії \"НАРОДНИЙ ФРОНТ\"',\n",
    "'Член депутатської групи \"Партія \"Відродження\"',\n",
    "'Член депутатської групи \"Воля народу\"',\n",
    "'Член депутатської фракції Політичної партії \"Опозиційний блок\"',\n",
    "'Член депутатської фракції Радикальної партії Олега Ляшка',\n",
    "]\n",
    "\n",
    "\n"
   ]
  },
  {
   "cell_type": "code",
   "execution_count": 287,
   "metadata": {
    "ExecuteTime": {
     "end_time": "2019-07-16T12:33:37.131666Z",
     "start_time": "2019-07-16T12:33:37.096101Z"
    },
    "scrolled": true
   },
   "outputs": [
    {
     "data": {
      "text/html": [
       "<div>\n",
       "<style scoped>\n",
       "    .dataframe tbody tr th:only-of-type {\n",
       "        vertical-align: middle;\n",
       "    }\n",
       "\n",
       "    .dataframe tbody tr th {\n",
       "        vertical-align: top;\n",
       "    }\n",
       "\n",
       "    .dataframe thead th {\n",
       "        text-align: right;\n",
       "    }\n",
       "</style>\n",
       "<table border=\"1\" class=\"dataframe\">\n",
       "  <thead>\n",
       "    <tr style=\"text-align: right;\">\n",
       "      <th></th>\n",
       "      <th>name</th>\n",
       "      <th>mean_n</th>\n",
       "    </tr>\n",
       "  </thead>\n",
       "  <tbody>\n",
       "    <tr>\n",
       "      <th>24</th>\n",
       "      <td>політична партія слуга народу</td>\n",
       "      <td>71</td>\n",
       "    </tr>\n",
       "    <tr>\n",
       "      <th>4</th>\n",
       "      <td>Член депутатської фракції ПАРТІЇ \"БЛОК ПЕТРА П...</td>\n",
       "      <td>36</td>\n",
       "    </tr>\n",
       "    <tr>\n",
       "      <th>5</th>\n",
       "      <td>Член депутатської фракції Політичної партії \"Н...</td>\n",
       "      <td>17</td>\n",
       "    </tr>\n",
       "    <tr>\n",
       "      <th>3</th>\n",
       "      <td>Член депутатської групи \"Партія \"Відродження\"</td>\n",
       "      <td>12</td>\n",
       "    </tr>\n",
       "    <tr>\n",
       "      <th>28</th>\n",
       "      <td>політична партія європейська солідарність</td>\n",
       "      <td>10</td>\n",
       "    </tr>\n",
       "    <tr>\n",
       "      <th>2</th>\n",
       "      <td>Член депутатської групи \"Воля народу\"</td>\n",
       "      <td>9</td>\n",
       "    </tr>\n",
       "    <tr>\n",
       "      <th>6</th>\n",
       "      <td>Член депутатської фракції Політичної партії \"О...</td>\n",
       "      <td>7</td>\n",
       "    </tr>\n",
       "    <tr>\n",
       "      <th>18</th>\n",
       "      <td>політична партія опозиційна платформа  за життя</td>\n",
       "      <td>7</td>\n",
       "    </tr>\n",
       "    <tr>\n",
       "      <th>12</th>\n",
       "      <td>політична партія голос</td>\n",
       "      <td>4</td>\n",
       "    </tr>\n",
       "    <tr>\n",
       "      <th>7</th>\n",
       "      <td>Член депутатської фракції Радикальної партії О...</td>\n",
       "      <td>3</td>\n",
       "    </tr>\n",
       "    <tr>\n",
       "      <th>10</th>\n",
       "      <td>політична партія всеукраїнське обєднання батьк...</td>\n",
       "      <td>3</td>\n",
       "    </tr>\n",
       "    <tr>\n",
       "      <th>29</th>\n",
       "      <td>політична партія єдиний центр</td>\n",
       "      <td>2</td>\n",
       "    </tr>\n",
       "    <tr>\n",
       "      <th>1</th>\n",
       "      <td>left фракция БПП</td>\n",
       "      <td>2</td>\n",
       "    </tr>\n",
       "    <tr>\n",
       "      <th>11</th>\n",
       "      <td>політична партія всеукраїнське обєднання свобода</td>\n",
       "      <td>2</td>\n",
       "    </tr>\n",
       "    <tr>\n",
       "      <th>30</th>\n",
       "      <td>політична партія інтернет партія україни</td>\n",
       "      <td>1</td>\n",
       "    </tr>\n",
       "    <tr>\n",
       "      <th>31</th>\n",
       "      <td>республіканська християнська партія</td>\n",
       "      <td>1</td>\n",
       "    </tr>\n",
       "    <tr>\n",
       "      <th>23</th>\n",
       "      <td>політична партія сила і честь</td>\n",
       "      <td>1</td>\n",
       "    </tr>\n",
       "    <tr>\n",
       "      <th>32</th>\n",
       "      <td>соціалістична партія україни</td>\n",
       "      <td>1</td>\n",
       "    </tr>\n",
       "    <tr>\n",
       "      <th>33</th>\n",
       "      <td>член ПОЛІТИЧНОЇ ПАРТІЇ \"УКРАЇНСЬКЕ ОБ’ЄДНАННЯ ...</td>\n",
       "      <td>1</td>\n",
       "    </tr>\n",
       "    <tr>\n",
       "      <th>27</th>\n",
       "      <td>політична партія циганська партія україни</td>\n",
       "      <td>1</td>\n",
       "    </tr>\n",
       "    <tr>\n",
       "      <th>26</th>\n",
       "      <td>політична партія удар український демократични...</td>\n",
       "      <td>1</td>\n",
       "    </tr>\n",
       "    <tr>\n",
       "      <th>25</th>\n",
       "      <td>політична партія соціальна справедливість</td>\n",
       "      <td>1</td>\n",
       "    </tr>\n",
       "    <tr>\n",
       "      <th>0</th>\n",
       "      <td>left воля народу</td>\n",
       "      <td>1</td>\n",
       "    </tr>\n",
       "    <tr>\n",
       "      <th>17</th>\n",
       "      <td>політична партія обєднання самопоміч</td>\n",
       "      <td>1</td>\n",
       "    </tr>\n",
       "    <tr>\n",
       "      <th>22</th>\n",
       "      <td>політична партія сила людей</td>\n",
       "      <td>1</td>\n",
       "    </tr>\n",
       "    <tr>\n",
       "      <th>21</th>\n",
       "      <td>політична партія радикальна партія олега ляшка</td>\n",
       "      <td>1</td>\n",
       "    </tr>\n",
       "    <tr>\n",
       "      <th>20</th>\n",
       "      <td>політична партія патріот</td>\n",
       "      <td>1</td>\n",
       "    </tr>\n",
       "    <tr>\n",
       "      <th>19</th>\n",
       "      <td>політична партія опозиційний блок</td>\n",
       "      <td>1</td>\n",
       "    </tr>\n",
       "    <tr>\n",
       "      <th>16</th>\n",
       "      <td>політична партія народний рух україни</td>\n",
       "      <td>1</td>\n",
       "    </tr>\n",
       "    <tr>\n",
       "      <th>15</th>\n",
       "      <td>політична партія громадянський рух хвиля</td>\n",
       "      <td>1</td>\n",
       "    </tr>\n",
       "    <tr>\n",
       "      <th>14</th>\n",
       "      <td>політична партія громадянська позиція</td>\n",
       "      <td>1</td>\n",
       "    </tr>\n",
       "    <tr>\n",
       "      <th>13</th>\n",
       "      <td>політична партія громадськополітична платформа...</td>\n",
       "      <td>1</td>\n",
       "    </tr>\n",
       "    <tr>\n",
       "      <th>9</th>\n",
       "      <td>партія пенсіонерів україни</td>\n",
       "      <td>1</td>\n",
       "    </tr>\n",
       "    <tr>\n",
       "      <th>8</th>\n",
       "      <td>аграрна партія україни</td>\n",
       "      <td>1</td>\n",
       "    </tr>\n",
       "    <tr>\n",
       "      <th>34</th>\n",
       "      <td>член Політичної партії \"РУХ НОВИХ СИЛ МИХАЙЛА ...</td>\n",
       "      <td>1</td>\n",
       "    </tr>\n",
       "  </tbody>\n",
       "</table>\n",
       "</div>"
      ],
      "text/plain": [
       "                                                 name  mean_n\n",
       "24                      політична партія слуга народу      71\n",
       "4   Член депутатської фракції ПАРТІЇ \"БЛОК ПЕТРА П...      36\n",
       "5   Член депутатської фракції Політичної партії \"Н...      17\n",
       "3       Член депутатської групи \"Партія \"Відродження\"      12\n",
       "28          політична партія європейська солідарність      10\n",
       "2               Член депутатської групи \"Воля народу\"       9\n",
       "6   Член депутатської фракції Політичної партії \"О...       7\n",
       "18    політична партія опозиційна платформа  за життя       7\n",
       "12                             політична партія голос       4\n",
       "7   Член депутатської фракції Радикальної партії О...       3\n",
       "10  політична партія всеукраїнське обєднання батьк...       3\n",
       "29                      політична партія єдиний центр       2\n",
       "1                                    left фракция БПП       2\n",
       "11   політична партія всеукраїнське обєднання свобода       2\n",
       "30           політична партія інтернет партія україни       1\n",
       "31                республіканська християнська партія       1\n",
       "23                      політична партія сила і честь       1\n",
       "32                       соціалістична партія україни       1\n",
       "33  член ПОЛІТИЧНОЇ ПАРТІЇ \"УКРАЇНСЬКЕ ОБ’ЄДНАННЯ ...       1\n",
       "27          політична партія циганська партія україни       1\n",
       "26  політична партія удар український демократични...       1\n",
       "25          політична партія соціальна справедливість       1\n",
       "0                                    left воля народу       1\n",
       "17               політична партія обєднання самопоміч       1\n",
       "22                        політична партія сила людей       1\n",
       "21     політична партія радикальна партія олега ляшка       1\n",
       "20                           політична партія патріот       1\n",
       "19                  політична партія опозиційний блок       1\n",
       "16              політична партія народний рух україни       1\n",
       "15           політична партія громадянський рух хвиля       1\n",
       "14              політична партія громадянська позиція       1\n",
       "13  політична партія громадськополітична платформа...       1\n",
       "9                          партія пенсіонерів україни       1\n",
       "8                              аграрна партія україни       1\n",
       "34  член Політичної партії \"РУХ НОВИХ СИЛ МИХАЙЛА ...       1"
      ]
     },
     "execution_count": 287,
     "metadata": {},
     "output_type": "execute_result"
    }
   ],
   "source": [
    "pred_modeling_default_plus_class.groupby('name')['n'].median().reset_index(name='mean_n').sort_values('mean_n', ascending=False)"
   ]
  },
  {
   "cell_type": "code",
   "execution_count": 331,
   "metadata": {
    "ExecuteTime": {
     "end_time": "2019-07-16T14:33:52.532748Z",
     "start_time": "2019-07-16T14:33:52.053226Z"
    }
   },
   "outputs": [
    {
     "data": {
      "text/plain": [
       "<matplotlib.axes._subplots.AxesSubplot at 0x7f92f847a9e8>"
      ]
     },
     "execution_count": 331,
     "metadata": {},
     "output_type": "execute_result"
    },
    {
     "data": {
      "image/png": "[encoded data removed]",
      "text/plain": [
       "<Figure size 302.4x172.8 with 1 Axes>"
      ]
     },
     "metadata": {},
     "output_type": "display_data"
    }
   ],
   "source": [
    "pred_modeling_default_plus_class.loc[pred_modeling_default_plus_class.name == 'Член депутатської групи \"Партія \"Відродження\"'].n.plot.hist()"
   ]
  },
  {
   "cell_type": "code",
   "execution_count": 430,
   "metadata": {
    "ExecuteTime": {
     "end_time": "2019-07-16T14:53:39.134689Z",
     "start_time": "2019-07-16T14:53:38.854950Z"
    }
   },
   "outputs": [
    {
     "name": "stderr",
     "output_type": "stream",
     "text": [
      "No handles with labels found to put in legend.\n"
     ]
    },
    {
     "data": {
      "image/png": "[encoded data removed]",
      "text/plain": [
       "<Figure size 302.4x172.8 with 1 Axes>"
      ]
     },
     "metadata": {},
     "output_type": "display_data"
    }
   ],
   "source": [
    "xz = samov\n",
    "# chart(xz[0], 'Фракція БПП', 'red')\n",
    "# chart(xz[1], 'Фракція Народного Фронту', 'yellow')\n",
    "# chart(xz[2], 'Група Відродження', 'purple')\n",
    "# chart(xz[3], 'Група Воля Народу', 'silver')\n",
    "# chart(xz[4], 'Фракція Опозиційного Блоку', 'blue')\n",
    "# chart(xz[5], 'Фракція Радикальної Партії', 'black')\n",
    "\n"
   ]
  },
  {
   "cell_type": "code",
   "execution_count": null,
   "metadata": {},
   "outputs": [],
   "source": []
  }
 ],
 "metadata": {
  "kernelspec": {
   "display_name": "Python 3",
   "language": "python",
   "name": "python3"
  },
  "language_info": {
   "codemirror_mode": {
    "name": "ipython",
    "version": 3
   },
   "file_extension": ".py",
   "mimetype": "text/x-python",
   "name": "python",
   "nbconvert_exporter": "python",
   "pygments_lexer": "ipython3",
   "version": "3.6.8"
  },
  "varInspector": {
   "cols": {
    "lenName": 16,
    "lenType": 16,
    "lenVar": 40
   },
   "kernels_config": {
    "python": {
     "delete_cmd_postfix": "",
     "delete_cmd_prefix": "del ",
     "library": "var_list.py",
     "varRefreshCmd": "print(var_dic_list())"
    },
    "r": {
     "delete_cmd_postfix": ") ",
     "delete_cmd_prefix": "rm(",
     "library": "var_list.r",
     "varRefreshCmd": "cat(var_dic_list()) "
    }
   },
   "types_to_exclude": [
    "module",
    "function",
    "builtin_function_or_method",
    "instance",
    "_Feature"
   ],
   "window_display": false
  }
 },
 "nbformat": 4,
 "nbformat_minor": 2
}
